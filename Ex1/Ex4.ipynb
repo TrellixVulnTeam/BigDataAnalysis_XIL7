{
 "cells": [
  {
   "cell_type": "code",
   "execution_count": 4,
   "metadata": {
    "collapsed": true
   },
   "outputs": [
    {
     "data": {
      "text/plain": "0    ID\n1    ID\n2    AK\n3    AK\n4    AK\nName: State, dtype: object"
     },
     "execution_count": 4,
     "metadata": {},
     "output_type": "execute_result"
    }
   ],
   "source": [
    "import numpy as np\n",
    "import pandas as pd\n",
    "\n",
    "df = pd.read_csv('RadNet_Laboratory_Analysis.csv')\n",
    "df['State'].head()"
   ]
  },
  {
   "cell_type": "code",
   "execution_count": 9,
   "outputs": [
    {
     "data": {
      "text/plain": "    State   Location Date Posted Date Collected     Sample Type   Unit  \\\n367    MN   St. Paul  04/08/2011     03/28/2011  Drinking Water  pCi/l   \n368    MN   St. Paul  04/22/2011     04/13/2011  Drinking Water  pCi/l   \n380    MN      Welch  04/08/2011     03/29/2011  Drinking Water  pCi/l   \n381    MN      Welch  06/01/2011     04/14/2011  Drinking Water  pCi/l   \n555    MN   St. Paul  04/04/2011     03/22/2011   Precipitation  pCi/l   \n556    MN   St. Paul  04/10/2011     03/29/2011   Precipitation  pCi/l   \n557    MN      Welch  04/04/2011     03/17/2011   Precipitation  pCi/l   \n558    MN  Welch/510  04/13/2011     04/04/2011   Precipitation  pCi/l   \n\n         Ba-140       Co-60      Cs-134      Cs-136      Cs-137       I-131  \\\n367  Non-detect  Non-detect  Non-detect  Non-detect  Non-detect  Non-detect   \n368  Non-detect  Non-detect  Non-detect  Non-detect  Non-detect        0.16   \n380  Non-detect  Non-detect  Non-detect  Non-detect  Non-detect  Non-detect   \n381  Non-detect  Non-detect  Non-detect  Non-detect  Non-detect  Non-detect   \n555  Non-detect  Non-detect  Non-detect         NaN  Non-detect        32.3   \n556  Non-detect  Non-detect  Non-detect  Non-detect  Non-detect          16   \n557  Non-detect  Non-detect  Non-detect         NaN  Non-detect  Non-detect   \n558  Non-detect  Non-detect  Non-detect  Non-detect  Non-detect         9.1   \n\n          I-132       I-133      Te-129     Te-129m      Te-132  \n367  Non-detect  Non-detect  Non-detect  Non-detect  Non-detect  \n368  Non-detect  Non-detect  Non-detect  Non-detect  Non-detect  \n380  Non-detect  Non-detect  Non-detect  Non-detect  Non-detect  \n381  Non-detect  Non-detect  Non-detect  Non-detect  Non-detect  \n555  Non-detect  Non-detect         NaN         NaN  Non-detect  \n556  Non-detect  Non-detect  Non-detect  Non-detect  Non-detect  \n557  Non-detect  Non-detect         NaN         NaN  Non-detect  \n558  Non-detect  Non-detect  Non-detect  Non-detect  Non-detect  ",
      "text/html": "<div>\n<style scoped>\n    .dataframe tbody tr th:only-of-type {\n        vertical-align: middle;\n    }\n\n    .dataframe tbody tr th {\n        vertical-align: top;\n    }\n\n    .dataframe thead th {\n        text-align: right;\n    }\n</style>\n<table border=\"1\" class=\"dataframe\">\n  <thead>\n    <tr style=\"text-align: right;\">\n      <th></th>\n      <th>State</th>\n      <th>Location</th>\n      <th>Date Posted</th>\n      <th>Date Collected</th>\n      <th>Sample Type</th>\n      <th>Unit</th>\n      <th>Ba-140</th>\n      <th>Co-60</th>\n      <th>Cs-134</th>\n      <th>Cs-136</th>\n      <th>Cs-137</th>\n      <th>I-131</th>\n      <th>I-132</th>\n      <th>I-133</th>\n      <th>Te-129</th>\n      <th>Te-129m</th>\n      <th>Te-132</th>\n    </tr>\n  </thead>\n  <tbody>\n    <tr>\n      <th>367</th>\n      <td>MN</td>\n      <td>St. Paul</td>\n      <td>04/08/2011</td>\n      <td>03/28/2011</td>\n      <td>Drinking Water</td>\n      <td>pCi/l</td>\n      <td>Non-detect</td>\n      <td>Non-detect</td>\n      <td>Non-detect</td>\n      <td>Non-detect</td>\n      <td>Non-detect</td>\n      <td>Non-detect</td>\n      <td>Non-detect</td>\n      <td>Non-detect</td>\n      <td>Non-detect</td>\n      <td>Non-detect</td>\n      <td>Non-detect</td>\n    </tr>\n    <tr>\n      <th>368</th>\n      <td>MN</td>\n      <td>St. Paul</td>\n      <td>04/22/2011</td>\n      <td>04/13/2011</td>\n      <td>Drinking Water</td>\n      <td>pCi/l</td>\n      <td>Non-detect</td>\n      <td>Non-detect</td>\n      <td>Non-detect</td>\n      <td>Non-detect</td>\n      <td>Non-detect</td>\n      <td>0.16</td>\n      <td>Non-detect</td>\n      <td>Non-detect</td>\n      <td>Non-detect</td>\n      <td>Non-detect</td>\n      <td>Non-detect</td>\n    </tr>\n    <tr>\n      <th>380</th>\n      <td>MN</td>\n      <td>Welch</td>\n      <td>04/08/2011</td>\n      <td>03/29/2011</td>\n      <td>Drinking Water</td>\n      <td>pCi/l</td>\n      <td>Non-detect</td>\n      <td>Non-detect</td>\n      <td>Non-detect</td>\n      <td>Non-detect</td>\n      <td>Non-detect</td>\n      <td>Non-detect</td>\n      <td>Non-detect</td>\n      <td>Non-detect</td>\n      <td>Non-detect</td>\n      <td>Non-detect</td>\n      <td>Non-detect</td>\n    </tr>\n    <tr>\n      <th>381</th>\n      <td>MN</td>\n      <td>Welch</td>\n      <td>06/01/2011</td>\n      <td>04/14/2011</td>\n      <td>Drinking Water</td>\n      <td>pCi/l</td>\n      <td>Non-detect</td>\n      <td>Non-detect</td>\n      <td>Non-detect</td>\n      <td>Non-detect</td>\n      <td>Non-detect</td>\n      <td>Non-detect</td>\n      <td>Non-detect</td>\n      <td>Non-detect</td>\n      <td>Non-detect</td>\n      <td>Non-detect</td>\n      <td>Non-detect</td>\n    </tr>\n    <tr>\n      <th>555</th>\n      <td>MN</td>\n      <td>St. Paul</td>\n      <td>04/04/2011</td>\n      <td>03/22/2011</td>\n      <td>Precipitation</td>\n      <td>pCi/l</td>\n      <td>Non-detect</td>\n      <td>Non-detect</td>\n      <td>Non-detect</td>\n      <td>NaN</td>\n      <td>Non-detect</td>\n      <td>32.3</td>\n      <td>Non-detect</td>\n      <td>Non-detect</td>\n      <td>NaN</td>\n      <td>NaN</td>\n      <td>Non-detect</td>\n    </tr>\n    <tr>\n      <th>556</th>\n      <td>MN</td>\n      <td>St. Paul</td>\n      <td>04/10/2011</td>\n      <td>03/29/2011</td>\n      <td>Precipitation</td>\n      <td>pCi/l</td>\n      <td>Non-detect</td>\n      <td>Non-detect</td>\n      <td>Non-detect</td>\n      <td>Non-detect</td>\n      <td>Non-detect</td>\n      <td>16</td>\n      <td>Non-detect</td>\n      <td>Non-detect</td>\n      <td>Non-detect</td>\n      <td>Non-detect</td>\n      <td>Non-detect</td>\n    </tr>\n    <tr>\n      <th>557</th>\n      <td>MN</td>\n      <td>Welch</td>\n      <td>04/04/2011</td>\n      <td>03/17/2011</td>\n      <td>Precipitation</td>\n      <td>pCi/l</td>\n      <td>Non-detect</td>\n      <td>Non-detect</td>\n      <td>Non-detect</td>\n      <td>NaN</td>\n      <td>Non-detect</td>\n      <td>Non-detect</td>\n      <td>Non-detect</td>\n      <td>Non-detect</td>\n      <td>NaN</td>\n      <td>NaN</td>\n      <td>Non-detect</td>\n    </tr>\n    <tr>\n      <th>558</th>\n      <td>MN</td>\n      <td>Welch/510</td>\n      <td>04/13/2011</td>\n      <td>04/04/2011</td>\n      <td>Precipitation</td>\n      <td>pCi/l</td>\n      <td>Non-detect</td>\n      <td>Non-detect</td>\n      <td>Non-detect</td>\n      <td>Non-detect</td>\n      <td>Non-detect</td>\n      <td>9.1</td>\n      <td>Non-detect</td>\n      <td>Non-detect</td>\n      <td>Non-detect</td>\n      <td>Non-detect</td>\n      <td>Non-detect</td>\n    </tr>\n  </tbody>\n</table>\n</div>"
     },
     "execution_count": 9,
     "metadata": {},
     "output_type": "execute_result"
    }
   ],
   "source": [
    "df[df.State == \"MN\"]"
   ],
   "metadata": {
    "collapsed": false,
    "pycharm": {
     "name": "#%%\n"
    }
   }
  },
  {
   "cell_type": "code",
   "execution_count": 11,
   "outputs": [
    {
     "data": {
      "text/plain": "    State      Location Date Posted Date Collected     Sample Type   Unit  \\\n305    CA   Los Angeles  04/10/2011     04/04/2011  Drinking Water  pCi/l   \n306    CA  Los Angeles   06/01/2011     04/12/2011  Drinking Water  pCi/l   \n356    CA      Richmond  04/09/2011     03/29/2011  Drinking Water  pCi/l   \n357    CA      Richmond  06/01/2011     04/13/2011  Drinking Water  pCi/l   \n\n         Ba-140       Co-60      Cs-134      Cs-136      Cs-137       I-131  \\\n305  Non-detect  Non-detect  Non-detect  Non-detect  Non-detect        0.39   \n306  Non-detect  Non-detect  Non-detect  Non-detect  Non-detect        0.18   \n356  Non-detect  Non-detect  Non-detect  Non-detect  Non-detect  Non-detect   \n357  Non-detect  Non-detect  Non-detect  Non-detect  Non-detect  Non-detect   \n\n          I-132       I-133      Te-129     Te-129m      Te-132  \n305  Non-detect  Non-detect  Non-detect  Non-detect  Non-detect  \n306  Non-detect  Non-detect  Non-detect  Non-detect  Non-detect  \n356  Non-detect  Non-detect  Non-detect  Non-detect  Non-detect  \n357  Non-detect  Non-detect  Non-detect  Non-detect  Non-detect  ",
      "text/html": "<div>\n<style scoped>\n    .dataframe tbody tr th:only-of-type {\n        vertical-align: middle;\n    }\n\n    .dataframe tbody tr th {\n        vertical-align: top;\n    }\n\n    .dataframe thead th {\n        text-align: right;\n    }\n</style>\n<table border=\"1\" class=\"dataframe\">\n  <thead>\n    <tr style=\"text-align: right;\">\n      <th></th>\n      <th>State</th>\n      <th>Location</th>\n      <th>Date Posted</th>\n      <th>Date Collected</th>\n      <th>Sample Type</th>\n      <th>Unit</th>\n      <th>Ba-140</th>\n      <th>Co-60</th>\n      <th>Cs-134</th>\n      <th>Cs-136</th>\n      <th>Cs-137</th>\n      <th>I-131</th>\n      <th>I-132</th>\n      <th>I-133</th>\n      <th>Te-129</th>\n      <th>Te-129m</th>\n      <th>Te-132</th>\n    </tr>\n  </thead>\n  <tbody>\n    <tr>\n      <th>305</th>\n      <td>CA</td>\n      <td>Los Angeles</td>\n      <td>04/10/2011</td>\n      <td>04/04/2011</td>\n      <td>Drinking Water</td>\n      <td>pCi/l</td>\n      <td>Non-detect</td>\n      <td>Non-detect</td>\n      <td>Non-detect</td>\n      <td>Non-detect</td>\n      <td>Non-detect</td>\n      <td>0.39</td>\n      <td>Non-detect</td>\n      <td>Non-detect</td>\n      <td>Non-detect</td>\n      <td>Non-detect</td>\n      <td>Non-detect</td>\n    </tr>\n    <tr>\n      <th>306</th>\n      <td>CA</td>\n      <td>Los Angeles</td>\n      <td>06/01/2011</td>\n      <td>04/12/2011</td>\n      <td>Drinking Water</td>\n      <td>pCi/l</td>\n      <td>Non-detect</td>\n      <td>Non-detect</td>\n      <td>Non-detect</td>\n      <td>Non-detect</td>\n      <td>Non-detect</td>\n      <td>0.18</td>\n      <td>Non-detect</td>\n      <td>Non-detect</td>\n      <td>Non-detect</td>\n      <td>Non-detect</td>\n      <td>Non-detect</td>\n    </tr>\n    <tr>\n      <th>356</th>\n      <td>CA</td>\n      <td>Richmond</td>\n      <td>04/09/2011</td>\n      <td>03/29/2011</td>\n      <td>Drinking Water</td>\n      <td>pCi/l</td>\n      <td>Non-detect</td>\n      <td>Non-detect</td>\n      <td>Non-detect</td>\n      <td>Non-detect</td>\n      <td>Non-detect</td>\n      <td>Non-detect</td>\n      <td>Non-detect</td>\n      <td>Non-detect</td>\n      <td>Non-detect</td>\n      <td>Non-detect</td>\n      <td>Non-detect</td>\n    </tr>\n    <tr>\n      <th>357</th>\n      <td>CA</td>\n      <td>Richmond</td>\n      <td>06/01/2011</td>\n      <td>04/13/2011</td>\n      <td>Drinking Water</td>\n      <td>pCi/l</td>\n      <td>Non-detect</td>\n      <td>Non-detect</td>\n      <td>Non-detect</td>\n      <td>Non-detect</td>\n      <td>Non-detect</td>\n      <td>Non-detect</td>\n      <td>Non-detect</td>\n      <td>Non-detect</td>\n      <td>Non-detect</td>\n      <td>Non-detect</td>\n      <td>Non-detect</td>\n    </tr>\n  </tbody>\n</table>\n</div>"
     },
     "execution_count": 11,
     "metadata": {},
     "output_type": "execute_result"
    }
   ],
   "source": [
    "df[(df.State == 'CA') & (df['Sample Type'] == 'Drinking Water')]"
   ],
   "metadata": {
    "collapsed": false,
    "pycharm": {
     "name": "#%%\n"
    }
   }
  },
  {
   "cell_type": "code",
   "execution_count": 14,
   "outputs": [
    {
     "data": {
      "text/plain": "367    Non-detect\n368          0.16\n380    Non-detect\n381    Non-detect\n555          32.3\n556            16\n557    Non-detect\n558           9.1\nName: I-131, dtype: object"
     },
     "execution_count": 14,
     "metadata": {},
     "output_type": "execute_result"
    }
   ],
   "source": [
    "df[(df.State == \"MN\")][\"I-131\"]"
   ],
   "metadata": {
    "collapsed": false,
    "pycharm": {
     "name": "#%%\n"
    }
   }
  },
  {
   "cell_type": "code",
   "execution_count": 16,
   "outputs": [
    {
     "data": {
      "text/plain": "367    Non-detect\n368          0.16\n380    Non-detect\n381    Non-detect\n555          32.3\n556            16\n557    Non-detect\n558           9.1\nName: I-131, dtype: object"
     },
     "execution_count": 16,
     "metadata": {},
     "output_type": "execute_result"
    }
   ],
   "source": [
    "df_rad = df\n",
    "df_rad.loc[df_rad.State == \"MN\", \"I-131\"]"
   ],
   "metadata": {
    "collapsed": false,
    "pycharm": {
     "name": "#%%\n"
    }
   }
  },
  {
   "cell_type": "code",
   "execution_count": null,
   "outputs": [],
   "source": [],
   "metadata": {
    "collapsed": false,
    "pycharm": {
     "name": "#%%\n"
    }
   }
  }
 ],
 "metadata": {
  "kernelspec": {
   "display_name": "Python 3",
   "language": "python",
   "name": "python3"
  },
  "language_info": {
   "codemirror_mode": {
    "name": "ipython",
    "version": 2
   },
   "file_extension": ".py",
   "mimetype": "text/x-python",
   "name": "python",
   "nbconvert_exporter": "python",
   "pygments_lexer": "ipython2",
   "version": "2.7.6"
  }
 },
 "nbformat": 4,
 "nbformat_minor": 0
}