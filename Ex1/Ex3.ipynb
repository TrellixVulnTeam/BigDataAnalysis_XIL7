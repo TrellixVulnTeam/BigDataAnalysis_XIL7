{
 "cells": [
  {
   "cell_type": "code",
   "execution_count": 10,
   "metadata": {
    "collapsed": true
   },
   "outputs": [
    {
     "data": {
      "text/plain": "3                int64\n?               object\nalfa-romero     object\ngas             object\nstd             object\ntwo             object\nconvertible     object\nrwd             object\nfront           object\n88.60          float64\n168.80         float64\n64.10          float64\n48.80          float64\n2548             int64\ndohc            object\nfour            object\n130              int64\nmpfi            object\n3.47            object\n2.68            object\n9.00           float64\n111             object\n5000            object\n21               int64\n27               int64\n13495           object\ndtype: object"
     },
     "execution_count": 10,
     "metadata": {},
     "output_type": "execute_result"
    }
   ],
   "source": [
    "import columns as columns\n",
    "import pandas as pd\n",
    "\n",
    "data = pd.read_csv(\n",
    "    'imports-85.data',\n",
    ")\n",
    "\n",
    "data.dtypes\n"
   ]
  }
 ],
 "metadata": {
  "kernelspec": {
   "display_name": "Python 3",
   "language": "python",
   "name": "python3"
  },
  "language_info": {
   "codemirror_mode": {
    "name": "ipython",
    "version": 2
   },
   "file_extension": ".py",
   "mimetype": "text/x-python",
   "name": "python",
   "nbconvert_exporter": "python",
   "pygments_lexer": "ipython2",
   "version": "2.7.6"
  }
 },
 "nbformat": 4,
 "nbformat_minor": 0
}