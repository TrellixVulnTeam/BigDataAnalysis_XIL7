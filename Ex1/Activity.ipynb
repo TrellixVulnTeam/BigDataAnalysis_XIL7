{
 "cells": [
  {
   "cell_type": "code",
   "execution_count": 1,
   "metadata": {
    "collapsed": true
   },
   "outputs": [
    {
     "data": {
      "text/plain": "    State        Location Date Posted Date Collected     Sample Type    Unit  \\\n0      ID           Boise  03/30/2011     03/23/2011      Air Filter  pCi/m3   \n1      ID           Boise  03/30/2011     03/23/2011      Air Filter  pCi/m3   \n2      AK          Juneau  03/30/2011     03/23/2011      Air Filter  pCi/m3   \n3      AK            Nome  03/30/2011     03/22/2011      Air Filter  pCi/m3   \n4      AK            Nome  03/30/2011     03/23/2011      Air Filter  pCi/m3   \n..    ...             ...         ...            ...             ...     ...   \n601    CA        Richmond  04/25/2011     04/14/2011  Precipitation    pCi/l   \n602    CA        Richmond  05/24/2011     04/28/2011  Precipitation    pCi/l   \n603    UT  Salt Lake City  05/24/2011     04/14/2011  Precipitation    pCi/l   \n604    UT  Salt Lake City  05/24/2011     04/28/2011  Precipitation    pCi/l   \n605    NY         Yaphank  05/24/2011     04/28/2011  Precipitation    pCi/l   \n\n         Ba-140       Co-60      Cs-134      Cs-136      Cs-137       I-131  \\\n0    Non-detect  Non-detect  Non-detect         NaN  Non-detect       0.088   \n1    Non-detect  Non-detect  Non-detect         NaN  Non-detect       0.055   \n2    Non-detect  Non-detect      0.0057         NaN      0.0074       0.067   \n3    Non-detect  Non-detect  Non-detect         NaN  Non-detect       0.096   \n4    Non-detect  Non-detect  Non-detect         NaN  Non-detect        0.22   \n..          ...         ...         ...         ...         ...         ...   \n601  Non-detect  Non-detect         8.9  Non-detect         7.9         5.9   \n602  Non-detect  Non-detect         6.6  Non-detect         5.8  Non-detect   \n603  Non-detect  Non-detect  Non-detect  Non-detect  Non-detect  Non-detect   \n604  Non-detect  Non-detect  Non-detect  Non-detect  Non-detect  Non-detect   \n605  Non-detect  Non-detect  Non-detect  Non-detect  Non-detect  Non-detect   \n\n          I-132       I-133      Te-129     Te-129m      Te-132  \n0    Non-detect  Non-detect         NaN         NaN  Non-detect  \n1    Non-detect  Non-detect         NaN         NaN  Non-detect  \n2    Non-detect  Non-detect         NaN         NaN      0.0043  \n3    Non-detect  Non-detect         NaN         NaN  Non-detect  \n4    Non-detect  Non-detect         NaN         NaN  Non-detect  \n..          ...         ...         ...         ...         ...  \n601  Non-detect  Non-detect  Non-detect  Non-detect  Non-detect  \n602  Non-detect  Non-detect  Non-detect  Non-detect  Non-detect  \n603  Non-detect  Non-detect  Non-detect  Non-detect  Non-detect  \n604  Non-detect  Non-detect  Non-detect  Non-detect  Non-detect  \n605  Non-detect  Non-detect  Non-detect  Non-detect  Non-detect  \n\n[606 rows x 17 columns]",
      "text/html": "<div>\n<style scoped>\n    .dataframe tbody tr th:only-of-type {\n        vertical-align: middle;\n    }\n\n    .dataframe tbody tr th {\n        vertical-align: top;\n    }\n\n    .dataframe thead th {\n        text-align: right;\n    }\n</style>\n<table border=\"1\" class=\"dataframe\">\n  <thead>\n    <tr style=\"text-align: right;\">\n      <th></th>\n      <th>State</th>\n      <th>Location</th>\n      <th>Date Posted</th>\n      <th>Date Collected</th>\n      <th>Sample Type</th>\n      <th>Unit</th>\n      <th>Ba-140</th>\n      <th>Co-60</th>\n      <th>Cs-134</th>\n      <th>Cs-136</th>\n      <th>Cs-137</th>\n      <th>I-131</th>\n      <th>I-132</th>\n      <th>I-133</th>\n      <th>Te-129</th>\n      <th>Te-129m</th>\n      <th>Te-132</th>\n    </tr>\n  </thead>\n  <tbody>\n    <tr>\n      <th>0</th>\n      <td>ID</td>\n      <td>Boise</td>\n      <td>03/30/2011</td>\n      <td>03/23/2011</td>\n      <td>Air Filter</td>\n      <td>pCi/m3</td>\n      <td>Non-detect</td>\n      <td>Non-detect</td>\n      <td>Non-detect</td>\n      <td>NaN</td>\n      <td>Non-detect</td>\n      <td>0.088</td>\n      <td>Non-detect</td>\n      <td>Non-detect</td>\n      <td>NaN</td>\n      <td>NaN</td>\n      <td>Non-detect</td>\n    </tr>\n    <tr>\n      <th>1</th>\n      <td>ID</td>\n      <td>Boise</td>\n      <td>03/30/2011</td>\n      <td>03/23/2011</td>\n      <td>Air Filter</td>\n      <td>pCi/m3</td>\n      <td>Non-detect</td>\n      <td>Non-detect</td>\n      <td>Non-detect</td>\n      <td>NaN</td>\n      <td>Non-detect</td>\n      <td>0.055</td>\n      <td>Non-detect</td>\n      <td>Non-detect</td>\n      <td>NaN</td>\n      <td>NaN</td>\n      <td>Non-detect</td>\n    </tr>\n    <tr>\n      <th>2</th>\n      <td>AK</td>\n      <td>Juneau</td>\n      <td>03/30/2011</td>\n      <td>03/23/2011</td>\n      <td>Air Filter</td>\n      <td>pCi/m3</td>\n      <td>Non-detect</td>\n      <td>Non-detect</td>\n      <td>0.0057</td>\n      <td>NaN</td>\n      <td>0.0074</td>\n      <td>0.067</td>\n      <td>Non-detect</td>\n      <td>Non-detect</td>\n      <td>NaN</td>\n      <td>NaN</td>\n      <td>0.0043</td>\n    </tr>\n    <tr>\n      <th>3</th>\n      <td>AK</td>\n      <td>Nome</td>\n      <td>03/30/2011</td>\n      <td>03/22/2011</td>\n      <td>Air Filter</td>\n      <td>pCi/m3</td>\n      <td>Non-detect</td>\n      <td>Non-detect</td>\n      <td>Non-detect</td>\n      <td>NaN</td>\n      <td>Non-detect</td>\n      <td>0.096</td>\n      <td>Non-detect</td>\n      <td>Non-detect</td>\n      <td>NaN</td>\n      <td>NaN</td>\n      <td>Non-detect</td>\n    </tr>\n    <tr>\n      <th>4</th>\n      <td>AK</td>\n      <td>Nome</td>\n      <td>03/30/2011</td>\n      <td>03/23/2011</td>\n      <td>Air Filter</td>\n      <td>pCi/m3</td>\n      <td>Non-detect</td>\n      <td>Non-detect</td>\n      <td>Non-detect</td>\n      <td>NaN</td>\n      <td>Non-detect</td>\n      <td>0.22</td>\n      <td>Non-detect</td>\n      <td>Non-detect</td>\n      <td>NaN</td>\n      <td>NaN</td>\n      <td>Non-detect</td>\n    </tr>\n    <tr>\n      <th>...</th>\n      <td>...</td>\n      <td>...</td>\n      <td>...</td>\n      <td>...</td>\n      <td>...</td>\n      <td>...</td>\n      <td>...</td>\n      <td>...</td>\n      <td>...</td>\n      <td>...</td>\n      <td>...</td>\n      <td>...</td>\n      <td>...</td>\n      <td>...</td>\n      <td>...</td>\n      <td>...</td>\n      <td>...</td>\n    </tr>\n    <tr>\n      <th>601</th>\n      <td>CA</td>\n      <td>Richmond</td>\n      <td>04/25/2011</td>\n      <td>04/14/2011</td>\n      <td>Precipitation</td>\n      <td>pCi/l</td>\n      <td>Non-detect</td>\n      <td>Non-detect</td>\n      <td>8.9</td>\n      <td>Non-detect</td>\n      <td>7.9</td>\n      <td>5.9</td>\n      <td>Non-detect</td>\n      <td>Non-detect</td>\n      <td>Non-detect</td>\n      <td>Non-detect</td>\n      <td>Non-detect</td>\n    </tr>\n    <tr>\n      <th>602</th>\n      <td>CA</td>\n      <td>Richmond</td>\n      <td>05/24/2011</td>\n      <td>04/28/2011</td>\n      <td>Precipitation</td>\n      <td>pCi/l</td>\n      <td>Non-detect</td>\n      <td>Non-detect</td>\n      <td>6.6</td>\n      <td>Non-detect</td>\n      <td>5.8</td>\n      <td>Non-detect</td>\n      <td>Non-detect</td>\n      <td>Non-detect</td>\n      <td>Non-detect</td>\n      <td>Non-detect</td>\n      <td>Non-detect</td>\n    </tr>\n    <tr>\n      <th>603</th>\n      <td>UT</td>\n      <td>Salt Lake City</td>\n      <td>05/24/2011</td>\n      <td>04/14/2011</td>\n      <td>Precipitation</td>\n      <td>pCi/l</td>\n      <td>Non-detect</td>\n      <td>Non-detect</td>\n      <td>Non-detect</td>\n      <td>Non-detect</td>\n      <td>Non-detect</td>\n      <td>Non-detect</td>\n      <td>Non-detect</td>\n      <td>Non-detect</td>\n      <td>Non-detect</td>\n      <td>Non-detect</td>\n      <td>Non-detect</td>\n    </tr>\n    <tr>\n      <th>604</th>\n      <td>UT</td>\n      <td>Salt Lake City</td>\n      <td>05/24/2011</td>\n      <td>04/28/2011</td>\n      <td>Precipitation</td>\n      <td>pCi/l</td>\n      <td>Non-detect</td>\n      <td>Non-detect</td>\n      <td>Non-detect</td>\n      <td>Non-detect</td>\n      <td>Non-detect</td>\n      <td>Non-detect</td>\n      <td>Non-detect</td>\n      <td>Non-detect</td>\n      <td>Non-detect</td>\n      <td>Non-detect</td>\n      <td>Non-detect</td>\n    </tr>\n    <tr>\n      <th>605</th>\n      <td>NY</td>\n      <td>Yaphank</td>\n      <td>05/24/2011</td>\n      <td>04/28/2011</td>\n      <td>Precipitation</td>\n      <td>pCi/l</td>\n      <td>Non-detect</td>\n      <td>Non-detect</td>\n      <td>Non-detect</td>\n      <td>Non-detect</td>\n      <td>Non-detect</td>\n      <td>Non-detect</td>\n      <td>Non-detect</td>\n      <td>Non-detect</td>\n      <td>Non-detect</td>\n      <td>Non-detect</td>\n      <td>Non-detect</td>\n    </tr>\n  </tbody>\n</table>\n<p>606 rows × 17 columns</p>\n</div>"
     },
     "execution_count": 1,
     "metadata": {},
     "output_type": "execute_result"
    }
   ],
   "source": [
    "import pandas as pd\n",
    "import numpy as np\n",
    "df = pd.read_csv('RadNet_Laboratory_Analysis.csv')\n",
    "df\n",
    "\n"
   ]
  }
 ],
 "metadata": {
  "kernelspec": {
   "display_name": "Python 3",
   "language": "python",
   "name": "python3"
  },
  "language_info": {
   "codemirror_mode": {
    "name": "ipython",
    "version": 2
   },
   "file_extension": ".py",
   "mimetype": "text/x-python",
   "name": "python",
   "nbconvert_exporter": "python",
   "pygments_lexer": "ipython2",
   "version": "2.7.6"
  }
 },
 "nbformat": 4,
 "nbformat_minor": 0
}