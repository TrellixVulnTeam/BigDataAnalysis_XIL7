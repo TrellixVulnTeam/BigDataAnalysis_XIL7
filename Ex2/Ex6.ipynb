{
 "cells": [
  {
   "cell_type": "code",
   "execution_count": 3,
   "outputs": [
    {
     "data": {
      "text/plain": "State             object\nLocation          object\nDate Posted       object\nDate Collected    object\nSample Type       object\nUnit              object\nBa-140            object\nCo-60             object\nCs-134            object\nCs-136            object\nCs-137            object\nI-131             object\nI-132             object\nI-133             object\nTe-129            object\nTe-129m           object\nTe-132            object\ndtype: object"
     },
     "execution_count": 3,
     "metadata": {},
     "output_type": "execute_result"
    }
   ],
   "source": [
    "import numpy as np\n",
    "import pandas as pd\n",
    "import matplotlib.pyplot as plt\n",
    "df = pd.read_csv('../RadNet_Laboratory_Analysis.csv')\n",
    "\n",
    "df.dtypes"
   ],
   "metadata": {
    "collapsed": false,
    "pycharm": {
     "name": "#%%\n"
    }
   }
  },
  {
   "cell_type": "code",
   "execution_count": 4,
   "outputs": [
    {
     "data": {
      "text/plain": "['Cs-137',\n 'Co-60',\n 'I-132',\n 'Cs-134',\n 'Cs-136',\n 'Te-132',\n 'I-133',\n 'I-131',\n 'Te-129',\n 'Te-129m',\n 'Ba-140']"
     },
     "execution_count": 4,
     "metadata": {},
     "output_type": "execute_result"
    }
   ],
   "source": [
    "columns = df.columns\n",
    "id_cols = ['State','Location',\"Date Posted\",'Date Collected', 'Sample Type','Unit']\n",
    "columns = list(set(columns)-set(id_cols))\n",
    "columns"
   ],
   "metadata": {
    "collapsed": false,
    "pycharm": {
     "name": "#%%\n"
    }
   }
  },
  {
   "cell_type": "code",
   "execution_count": 5,
   "outputs": [
    {
     "data": {
      "text/plain": "   Cs-137 Co-60 I-132  Cs-134 Cs-136  Te-132 I-133  I-131 Te-129 Te-129m  \\\n0     NaN   NaN   NaN     NaN    NaN     NaN   NaN  0.088    NaN     NaN   \n1     NaN   NaN   NaN     NaN    NaN     NaN   NaN  0.055    NaN     NaN   \n2  0.0074   NaN   NaN  0.0057    NaN  0.0043   NaN  0.067    NaN     NaN   \n3     NaN   NaN   NaN     NaN    NaN     NaN   NaN  0.096    NaN     NaN   \n4     NaN   NaN   NaN     NaN    NaN     NaN   NaN   0.22    NaN     NaN   \n\n  Ba-140  \n0    NaN  \n1    NaN  \n2    NaN  \n3    NaN  \n4    NaN  ",
      "text/html": "<div>\n<style scoped>\n    .dataframe tbody tr th:only-of-type {\n        vertical-align: middle;\n    }\n\n    .dataframe tbody tr th {\n        vertical-align: top;\n    }\n\n    .dataframe thead th {\n        text-align: right;\n    }\n</style>\n<table border=\"1\" class=\"dataframe\">\n  <thead>\n    <tr style=\"text-align: right;\">\n      <th></th>\n      <th>Cs-137</th>\n      <th>Co-60</th>\n      <th>I-132</th>\n      <th>Cs-134</th>\n      <th>Cs-136</th>\n      <th>Te-132</th>\n      <th>I-133</th>\n      <th>I-131</th>\n      <th>Te-129</th>\n      <th>Te-129m</th>\n      <th>Ba-140</th>\n    </tr>\n  </thead>\n  <tbody>\n    <tr>\n      <th>0</th>\n      <td>NaN</td>\n      <td>NaN</td>\n      <td>NaN</td>\n      <td>NaN</td>\n      <td>NaN</td>\n      <td>NaN</td>\n      <td>NaN</td>\n      <td>0.088</td>\n      <td>NaN</td>\n      <td>NaN</td>\n      <td>NaN</td>\n    </tr>\n    <tr>\n      <th>1</th>\n      <td>NaN</td>\n      <td>NaN</td>\n      <td>NaN</td>\n      <td>NaN</td>\n      <td>NaN</td>\n      <td>NaN</td>\n      <td>NaN</td>\n      <td>0.055</td>\n      <td>NaN</td>\n      <td>NaN</td>\n      <td>NaN</td>\n    </tr>\n    <tr>\n      <th>2</th>\n      <td>0.0074</td>\n      <td>NaN</td>\n      <td>NaN</td>\n      <td>0.0057</td>\n      <td>NaN</td>\n      <td>0.0043</td>\n      <td>NaN</td>\n      <td>0.067</td>\n      <td>NaN</td>\n      <td>NaN</td>\n      <td>NaN</td>\n    </tr>\n    <tr>\n      <th>3</th>\n      <td>NaN</td>\n      <td>NaN</td>\n      <td>NaN</td>\n      <td>NaN</td>\n      <td>NaN</td>\n      <td>NaN</td>\n      <td>NaN</td>\n      <td>0.096</td>\n      <td>NaN</td>\n      <td>NaN</td>\n      <td>NaN</td>\n    </tr>\n    <tr>\n      <th>4</th>\n      <td>NaN</td>\n      <td>NaN</td>\n      <td>NaN</td>\n      <td>NaN</td>\n      <td>NaN</td>\n      <td>NaN</td>\n      <td>NaN</td>\n      <td>0.22</td>\n      <td>NaN</td>\n      <td>NaN</td>\n      <td>NaN</td>\n    </tr>\n  </tbody>\n</table>\n</div>"
     },
     "execution_count": 5,
     "metadata": {},
     "output_type": "execute_result"
    }
   ],
   "source": [
    "df.loc[:,columns]=df.loc[:,columns].applymap(lambda x: np.nan if ((x == \"Non-detect\")|(x==\"ND\")) else x)\n",
    "df.loc[:,columns].head()"
   ],
   "metadata": {
    "collapsed": false,
    "pycharm": {
     "name": "#%%\n"
    }
   }
  },
  {
   "cell_type": "code",
   "execution_count": 6,
   "outputs": [
    {
     "data": {
      "text/plain": "State                     object\nLocation                  object\nDate Posted       datetime64[ns]\nDate Collected    datetime64[ns]\nSample Type               object\nUnit                      object\nBa-140                   float64\nCo-60                    float64\nCs-134                   float64\nCs-136                   float64\nCs-137                   float64\nI-131                    float64\nI-132                    float64\nI-133                    float64\nTe-129                   float64\nTe-129m                  float64\nTe-132                   float64\ndtype: object"
     },
     "execution_count": 6,
     "metadata": {},
     "output_type": "execute_result"
    }
   ],
   "source": [
    "df['Date Posted'] = pd.to_datetime(df['Date Posted'])\n",
    "df['Date Collected'] = pd.to_datetime(df['Date Collected'])\n",
    "for col in columns:\n",
    "    df[col] = pd.to_numeric(df[col])\n",
    "\n",
    "df.dtypes"
   ],
   "metadata": {
    "collapsed": false,
    "pycharm": {
     "name": "#%%\n"
    }
   }
  },
  {
   "cell_type": "code",
   "execution_count": 7,
   "outputs": [
    {
     "data": {
      "text/plain": "State             category\nLocation          category\nDate Posted       category\nDate Collected    category\nSample Type       category\nUnit              category\nBa-140             float64\nCo-60              float64\nCs-134             float64\nCs-136             float64\nCs-137             float64\nI-131              float64\nI-132              float64\nI-133              float64\nTe-129             float64\nTe-129m            float64\nTe-132             float64\ndtype: object"
     },
     "execution_count": 7,
     "metadata": {},
     "output_type": "execute_result"
    }
   ],
   "source": [
    "id_cols = pd.Series(id_cols)\n",
    "for col in id_cols:\n",
    "    df[col] = df[col].astype('category')\n",
    "\n",
    "df.dtypes"
   ],
   "metadata": {
    "collapsed": false,
    "pycharm": {
     "name": "#%%\n"
    }
   }
  },
  {
   "cell_type": "code",
   "execution_count": 9,
   "outputs": [
    {
     "data": {
      "text/plain": "<pandas.core.groupby.generic.DataFrameGroupBy object at 0x7f25f8f4a1f0>"
     },
     "execution_count": 9,
     "metadata": {},
     "output_type": "execute_result"
    }
   ],
   "source": [
    "df.groupby('State')"
   ],
   "metadata": {
    "collapsed": false,
    "pycharm": {
     "name": "#%%\n"
    }
   }
  },
  {
   "cell_type": "markdown",
   "source": [
    "Select the radionuclide CS-134 and calcuate the average value per group:"
   ],
   "metadata": {
    "collapsed": false
   }
  },
  {
   "cell_type": "code",
   "execution_count": 11,
   "outputs": [
    {
     "data": {
      "text/plain": "0         NaN\n1         NaN\n2      0.0057\n3         NaN\n4         NaN\n        ...  \n551    1.4000\n552       NaN\n555       NaN\n574       NaN\n575       NaN\nName: Cs-134, Length: 206, dtype: float64"
     },
     "execution_count": 11,
     "metadata": {},
     "output_type": "execute_result"
    }
   ],
   "source": [
    "df.groupby('State')['Cs-134'].head()"
   ],
   "metadata": {
    "collapsed": false,
    "pycharm": {
     "name": "#%%\n"
    }
   }
  },
  {
   "cell_type": "code",
   "execution_count": 13,
   "outputs": [
    {
     "data": {
      "text/plain": "<bound method GroupBy.mean of <pandas.core.groupby.generic.DataFrameGroupBy object at 0x7f25f7f9c7f0>>"
     },
     "execution_count": 13,
     "metadata": {},
     "output_type": "execute_result"
    }
   ],
   "source": [
    "df.groupby(['State','Location']).mean"
   ],
   "metadata": {
    "collapsed": false,
    "pycharm": {
     "name": "#%%\n"
    }
   }
  },
  {
   "cell_type": "code",
   "execution_count": null,
   "outputs": [],
   "source": [
    "df.groupby(['State', 'Location']).agg({'Cs-134':['mean',\n",
    "'std'],'Te-129':['min', 'max']})"
   ],
   "metadata": {
    "collapsed": false,
    "pycharm": {
     "name": "#%%\n"
    }
   }
  },
  {
   "cell_type": "markdown",
   "source": [
    "<h3>Exercise 7. Exporting Data in Diffrent Formats"
   ],
   "metadata": {
    "collapsed": false
   }
  },
  {
   "cell_type": "code",
   "execution_count": 14,
   "outputs": [],
   "source": [
    "df.to_csv('radiation_clean.csv',\n",
    "          index=False,\n",
    "          sep=';',\n",
    "          encoding='utf-8'\n",
    ")"
   ],
   "metadata": {
    "collapsed": false,
    "pycharm": {
     "name": "#%%\n"
    }
   }
  },
  {
   "cell_type": "markdown",
   "source": [
    "<h4>#3. Create a plot with a filter per Location, selecting the city of San Bernardino, and one radionculide,\n",
    "with the x-axis set tot the date and the y-axis with radionuclide I-131:"
   ],
   "metadata": {
    "collapsed": false
   }
  },
  {
   "cell_type": "code",
   "execution_count": 16,
   "outputs": [
    {
     "data": {
      "text/plain": "<AxesSubplot:xlabel='Date Collected'>"
     },
     "execution_count": 16,
     "metadata": {},
     "output_type": "execute_result"
    },
    {
     "data": {
      "text/plain": "<Figure size 432x288 with 1 Axes>",
      "image/png": "[encoded data removed]"
     },
     "metadata": {
      "needs_background": "light"
     },
     "output_type": "display_data"
    }
   ],
   "source": [
    "df.loc[df.Location == 'San Bernardino'].plot(x='Date Collected', y='I-131')"
   ],
   "metadata": {
    "collapsed": false,
    "pycharm": {
     "name": "#%%\n"
    }
   }
  },
  {
   "cell_type": "markdown",
   "source": [
    "<h4>#4.Create a plot using matplotlib.pl - matlab style - with the concencration of two related radionuclides, I-131 and\n",
    "I-132"
   ],
   "metadata": {
    "collapsed": false
   }
  }
 ],
 "metadata": {
  "kernelspec": {
   "display_name": "Python 3",
   "language": "python",
   "name": "python3"
  },
  "language_info": {
   "codemirror_mode": {
    "name": "ipython",
    "version": 2
   },
   "file_extension": ".py",
   "mimetype": "text/x-python",
   "name": "python",
   "nbconvert_exporter": "python",
   "pygments_lexer": "ipython2",
   "version": "2.7.6"
  }
 },
 "nbformat": 4,
 "nbformat_minor": 0
}