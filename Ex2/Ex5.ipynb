{
 "cells": [
  {
   "cell_type": "code",
   "execution_count": 20,
   "metadata": {
    "collapsed": true
   },
   "outputs": [
    {
     "data": {
      "text/plain": "  State Location Date Posted Date Collected Sample Type    Unit      Ba-140  \\\n0    ID    Boise  03/30/2011     03/23/2011  Air Filter  pCi/m3  Non-detect   \n1    ID    Boise  03/30/2011     03/23/2011  Air Filter  pCi/m3  Non-detect   \n2    AK   Juneau  03/30/2011     03/23/2011  Air Filter  pCi/m3  Non-detect   \n3    AK     Nome  03/30/2011     03/22/2011  Air Filter  pCi/m3  Non-detect   \n4    AK     Nome  03/30/2011     03/23/2011  Air Filter  pCi/m3  Non-detect   \n\n        Co-60      Cs-134 Cs-136      Cs-137  I-131       I-132       I-133  \\\n0  Non-detect  Non-detect    NaN  Non-detect  0.088  Non-detect  Non-detect   \n1  Non-detect  Non-detect    NaN  Non-detect  0.055  Non-detect  Non-detect   \n2  Non-detect      0.0057    NaN      0.0074  0.067  Non-detect  Non-detect   \n3  Non-detect  Non-detect    NaN  Non-detect  0.096  Non-detect  Non-detect   \n4  Non-detect  Non-detect    NaN  Non-detect   0.22  Non-detect  Non-detect   \n\n  Te-129 Te-129m      Te-132  \n0    NaN     NaN  Non-detect  \n1    NaN     NaN  Non-detect  \n2    NaN     NaN      0.0043  \n3    NaN     NaN  Non-detect  \n4    NaN     NaN  Non-detect  ",
      "text/html": "<div>\n<style scoped>\n    .dataframe tbody tr th:only-of-type {\n        vertical-align: middle;\n    }\n\n    .dataframe tbody tr th {\n        vertical-align: top;\n    }\n\n    .dataframe thead th {\n        text-align: right;\n    }\n</style>\n<table border=\"1\" class=\"dataframe\">\n  <thead>\n    <tr style=\"text-align: right;\">\n      <th></th>\n      <th>State</th>\n      <th>Location</th>\n      <th>Date Posted</th>\n      <th>Date Collected</th>\n      <th>Sample Type</th>\n      <th>Unit</th>\n      <th>Ba-140</th>\n      <th>Co-60</th>\n      <th>Cs-134</th>\n      <th>Cs-136</th>\n      <th>Cs-137</th>\n      <th>I-131</th>\n      <th>I-132</th>\n      <th>I-133</th>\n      <th>Te-129</th>\n      <th>Te-129m</th>\n      <th>Te-132</th>\n    </tr>\n  </thead>\n  <tbody>\n    <tr>\n      <th>0</th>\n      <td>ID</td>\n      <td>Boise</td>\n      <td>03/30/2011</td>\n      <td>03/23/2011</td>\n      <td>Air Filter</td>\n      <td>pCi/m3</td>\n      <td>Non-detect</td>\n      <td>Non-detect</td>\n      <td>Non-detect</td>\n      <td>NaN</td>\n      <td>Non-detect</td>\n      <td>0.088</td>\n      <td>Non-detect</td>\n      <td>Non-detect</td>\n      <td>NaN</td>\n      <td>NaN</td>\n      <td>Non-detect</td>\n    </tr>\n    <tr>\n      <th>1</th>\n      <td>ID</td>\n      <td>Boise</td>\n      <td>03/30/2011</td>\n      <td>03/23/2011</td>\n      <td>Air Filter</td>\n      <td>pCi/m3</td>\n      <td>Non-detect</td>\n      <td>Non-detect</td>\n      <td>Non-detect</td>\n      <td>NaN</td>\n      <td>Non-detect</td>\n      <td>0.055</td>\n      <td>Non-detect</td>\n      <td>Non-detect</td>\n      <td>NaN</td>\n      <td>NaN</td>\n      <td>Non-detect</td>\n    </tr>\n    <tr>\n      <th>2</th>\n      <td>AK</td>\n      <td>Juneau</td>\n      <td>03/30/2011</td>\n      <td>03/23/2011</td>\n      <td>Air Filter</td>\n      <td>pCi/m3</td>\n      <td>Non-detect</td>\n      <td>Non-detect</td>\n      <td>0.0057</td>\n      <td>NaN</td>\n      <td>0.0074</td>\n      <td>0.067</td>\n      <td>Non-detect</td>\n      <td>Non-detect</td>\n      <td>NaN</td>\n      <td>NaN</td>\n      <td>0.0043</td>\n    </tr>\n    <tr>\n      <th>3</th>\n      <td>AK</td>\n      <td>Nome</td>\n      <td>03/30/2011</td>\n      <td>03/22/2011</td>\n      <td>Air Filter</td>\n      <td>pCi/m3</td>\n      <td>Non-detect</td>\n      <td>Non-detect</td>\n      <td>Non-detect</td>\n      <td>NaN</td>\n      <td>Non-detect</td>\n      <td>0.096</td>\n      <td>Non-detect</td>\n      <td>Non-detect</td>\n      <td>NaN</td>\n      <td>NaN</td>\n      <td>Non-detect</td>\n    </tr>\n    <tr>\n      <th>4</th>\n      <td>AK</td>\n      <td>Nome</td>\n      <td>03/30/2011</td>\n      <td>03/23/2011</td>\n      <td>Air Filter</td>\n      <td>pCi/m3</td>\n      <td>Non-detect</td>\n      <td>Non-detect</td>\n      <td>Non-detect</td>\n      <td>NaN</td>\n      <td>Non-detect</td>\n      <td>0.22</td>\n      <td>Non-detect</td>\n      <td>Non-detect</td>\n      <td>NaN</td>\n      <td>NaN</td>\n      <td>Non-detect</td>\n    </tr>\n  </tbody>\n</table>\n</div>"
     },
     "execution_count": 20,
     "metadata": {},
     "output_type": "execute_result"
    }
   ],
   "source": [
    "import numpy as np\n",
    "import pandas as pd\n",
    "import matplotlib.pyplot as plt\n",
    "df = pd.read_csv('../RadNet_Laboratory_Analysis.csv')\n",
    "\n",
    "df.dtypes"
   ]
  },
  {
   "cell_type": "code",
   "execution_count": 15,
   "outputs": [
    {
     "data": {
      "text/plain": "['Cs-134',\n 'Co-60',\n 'I-131',\n 'Te-132',\n 'Cs-136',\n 'Cs-137',\n 'Te-129m',\n 'I-133',\n 'Ba-140',\n 'I-132',\n 'Te-129']"
     },
     "execution_count": 15,
     "metadata": {},
     "output_type": "execute_result"
    }
   ],
   "source": [
    "columns = df.columns\n",
    "id_cols = ['State','Location',\"Date Posted\",'Date Collected', 'Sample Type','Unit']\n",
    "columns = list(set(columns)-set(id_cols))\n",
    "columns"
   ],
   "metadata": {
    "collapsed": false,
    "pycharm": {
     "name": "#%%\n"
    }
   }
  },
  {
   "cell_type": "code",
   "execution_count": 21,
   "outputs": [
    {
     "data": {
      "text/plain": "   Cs-134 Co-60  I-131  Te-132 Cs-136  Cs-137 Te-129m I-133 Ba-140 I-132  \\\n0     NaN   NaN  0.088     NaN    NaN     NaN     NaN   NaN    NaN   NaN   \n1     NaN   NaN  0.055     NaN    NaN     NaN     NaN   NaN    NaN   NaN   \n2  0.0057   NaN  0.067  0.0043    NaN  0.0074     NaN   NaN    NaN   NaN   \n3     NaN   NaN  0.096     NaN    NaN     NaN     NaN   NaN    NaN   NaN   \n4     NaN   NaN   0.22     NaN    NaN     NaN     NaN   NaN    NaN   NaN   \n\n  Te-129  \n0    NaN  \n1    NaN  \n2    NaN  \n3    NaN  \n4    NaN  ",
      "text/html": "<div>\n<style scoped>\n    .dataframe tbody tr th:only-of-type {\n        vertical-align: middle;\n    }\n\n    .dataframe tbody tr th {\n        vertical-align: top;\n    }\n\n    .dataframe thead th {\n        text-align: right;\n    }\n</style>\n<table border=\"1\" class=\"dataframe\">\n  <thead>\n    <tr style=\"text-align: right;\">\n      <th></th>\n      <th>Cs-134</th>\n      <th>Co-60</th>\n      <th>I-131</th>\n      <th>Te-132</th>\n      <th>Cs-136</th>\n      <th>Cs-137</th>\n      <th>Te-129m</th>\n      <th>I-133</th>\n      <th>Ba-140</th>\n      <th>I-132</th>\n      <th>Te-129</th>\n    </tr>\n  </thead>\n  <tbody>\n    <tr>\n      <th>0</th>\n      <td>NaN</td>\n      <td>NaN</td>\n      <td>0.088</td>\n      <td>NaN</td>\n      <td>NaN</td>\n      <td>NaN</td>\n      <td>NaN</td>\n      <td>NaN</td>\n      <td>NaN</td>\n      <td>NaN</td>\n      <td>NaN</td>\n    </tr>\n    <tr>\n      <th>1</th>\n      <td>NaN</td>\n      <td>NaN</td>\n      <td>0.055</td>\n      <td>NaN</td>\n      <td>NaN</td>\n      <td>NaN</td>\n      <td>NaN</td>\n      <td>NaN</td>\n      <td>NaN</td>\n      <td>NaN</td>\n      <td>NaN</td>\n    </tr>\n    <tr>\n      <th>2</th>\n      <td>0.0057</td>\n      <td>NaN</td>\n      <td>0.067</td>\n      <td>0.0043</td>\n      <td>NaN</td>\n      <td>0.0074</td>\n      <td>NaN</td>\n      <td>NaN</td>\n      <td>NaN</td>\n      <td>NaN</td>\n      <td>NaN</td>\n    </tr>\n    <tr>\n      <th>3</th>\n      <td>NaN</td>\n      <td>NaN</td>\n      <td>0.096</td>\n      <td>NaN</td>\n      <td>NaN</td>\n      <td>NaN</td>\n      <td>NaN</td>\n      <td>NaN</td>\n      <td>NaN</td>\n      <td>NaN</td>\n      <td>NaN</td>\n    </tr>\n    <tr>\n      <th>4</th>\n      <td>NaN</td>\n      <td>NaN</td>\n      <td>0.22</td>\n      <td>NaN</td>\n      <td>NaN</td>\n      <td>NaN</td>\n      <td>NaN</td>\n      <td>NaN</td>\n      <td>NaN</td>\n      <td>NaN</td>\n      <td>NaN</td>\n    </tr>\n  </tbody>\n</table>\n</div>"
     },
     "execution_count": 21,
     "metadata": {},
     "output_type": "execute_result"
    }
   ],
   "source": [
    "df.loc[:,columns]=df.loc[:,columns].applymap(lambda x: np.nan if ((x == \"Non-detect\")|(x==\"ND\")) else x)\n",
    "df.loc[:,columns].head()"
   ],
   "metadata": {
    "collapsed": false,
    "pycharm": {
     "name": "#%%\n"
    }
   }
  },
  {
   "cell_type": "code",
   "execution_count": 26,
   "outputs": [
    {
     "data": {
      "text/plain": "State                     object\nLocation                  object\nDate Posted       datetime64[ns]\nDate Collected    datetime64[ns]\nSample Type               object\nUnit                      object\nBa-140                   float64\nCo-60                    float64\nCs-134                   float64\nCs-136                   float64\nCs-137                   float64\nI-131                    float64\nI-132                    float64\nI-133                    float64\nTe-129                   float64\nTe-129m                  float64\nTe-132                   float64\ndtype: object"
     },
     "execution_count": 26,
     "metadata": {},
     "output_type": "execute_result"
    }
   ],
   "source": [
    "df['Date Posted'] = pd.to_datetime(df['Date Posted'])\n",
    "df['Date Collected'] = pd.to_datetime(df['Date Collected'])\n",
    "for col in columns:\n",
    "    df[col] = pd.to_numeric(df[col])\n",
    "\n",
    "df.dtypes"
   ],
   "metadata": {
    "collapsed": false,
    "pycharm": {
     "name": "#%%\n"
    }
   }
  },
  {
   "cell_type": "code",
   "execution_count": 29,
   "outputs": [
    {
     "data": {
      "text/plain": "State             category\nLocation          category\nDate Posted       category\nDate Collected    category\nSample Type       category\nUnit              category\nBa-140             float64\nCo-60              float64\nCs-134             float64\nCs-136             float64\nCs-137             float64\nI-131              float64\nI-132              float64\nI-133              float64\nTe-129             float64\nTe-129m            float64\nTe-132             float64\ndtype: object"
     },
     "execution_count": 29,
     "metadata": {},
     "output_type": "execute_result"
    }
   ],
   "source": [
    "id_cols = pd.Series(id_cols)\n",
    "for col in id_cols:\n",
    "    df[col] = df[col].astype('category')\n",
    "\n",
    "df.dtypes"
   ],
   "metadata": {
    "collapsed": false,
    "pycharm": {
     "name": "#%%\n"
    }
   }
  }
 ],
 "metadata": {
  "kernelspec": {
   "display_name": "Python 3",
   "language": "python",
   "name": "python3"
  },
  "language_info": {
   "codemirror_mode": {
    "name": "ipython",
    "version": 2
   },
   "file_extension": ".py",
   "mimetype": "text/x-python",
   "name": "python",
   "nbconvert_exporter": "python",
   "pygments_lexer": "ipython2",
   "version": "2.7.6"
  }
 },
 "nbformat": 4,
 "nbformat_minor": 0
}