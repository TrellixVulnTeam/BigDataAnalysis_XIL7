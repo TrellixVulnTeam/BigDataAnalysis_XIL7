{
 "cells": [
  {
   "cell_type": "markdown",
   "metadata": {
    "collapsed": true,
    "pycharm": {
     "name": "#%% md\n"
    }
   },
   "source": [
    "<h2>Activity: Data Conversion"
   ]
  },
  {
   "cell_type": "code",
   "execution_count": 1,
   "outputs": [],
   "source": [
    "from pyspark.sql import SparkSession\n",
    "spark = SparkSession.builder.appName(\"Activity Exercise\").getOrCreate()"
   ],
   "metadata": {
    "collapsed": false,
    "pycharm": {
     "name": "#%%\n"
    }
   }
  },
  {
   "cell_type": "code",
   "execution_count": 8,
   "outputs": [
    {
     "name": "stdout",
     "output_type": "stream",
     "text": [
      "+---+----+---------+------------+----------+------+------------+----+------+--------------------+\n",
      "|_c0| mpg|cylinders|displacement|horsepower|weight|acceleration|year|origin|                name|\n",
      "+---+----+---------+------------+----------+------+------------+----+------+--------------------+\n",
      "|  0|18.0|        8|       307.0|     130.0|3504.0|        12.0|1970|     1|chevrolet chevell...|\n",
      "|  1|15.0|        8|       350.0|     165.0|3693.0|        11.5|1970|     1|   buick skylark 320|\n",
      "|  2|18.0|        8|       318.0|     150.0|3436.0|        11.0|1970|     1|  plymouth satellite|\n",
      "|  3|16.0|        8|       304.0|     150.0|3433.0|        12.0|1970|     1|       amc rebel sst|\n",
      "|  4|17.0|        8|       302.0|     140.0|3449.0|        10.5|1970|     1|         ford torino|\n",
      "|  5|15.0|        8|       429.0|     198.0|4341.0|        10.0|1970|     1|    ford galaxie 500|\n",
      "|  6|14.0|        8|       454.0|     220.0|4354.0|         9.0|1970|     1|    chevrolet impala|\n",
      "|  7|14.0|        8|       440.0|     215.0|4312.0|         8.5|1970|     1|   plymouth fury iii|\n",
      "|  8|14.0|        8|       455.0|     225.0|4425.0|        10.0|1970|     1|    pontiac catalina|\n",
      "|  9|15.0|        8|       390.0|     190.0|3850.0|         8.5|1970|     1|  amc ambassador dpl|\n",
      "| 10|15.0|        8|       383.0|     170.0|3563.0|        10.0|1970|     1| dodge challenger se|\n",
      "| 11|14.0|        8|       340.0|     160.0|3609.0|         8.0|1970|     1|  plymouth 'cuda 340|\n",
      "| 12|15.0|        8|       400.0|     150.0|3761.0|         9.5|1970|     1|chevrolet monte c...|\n",
      "| 13|14.0|        8|       455.0|     225.0|3086.0|        10.0|1970|     1|buick estate wago...|\n",
      "| 14|24.0|        4|       113.0|      95.0|2372.0|        15.0|1970|     3|toyota corona mar...|\n",
      "| 15|22.0|        6|       198.0|      95.0|2833.0|        15.5|1970|     1|     plymouth duster|\n",
      "| 16|18.0|        6|       199.0|      97.0|2774.0|        15.5|1970|     1|          amc hornet|\n",
      "| 17|21.0|        6|       200.0|      85.0|2587.0|        16.0|1970|     1|       ford maverick|\n",
      "| 18|27.0|        4|        97.0|      88.0|2130.0|        14.5|1970|     3|        datsun pl510|\n",
      "| 19|26.0|        4|        97.0|      46.0|1835.0|        20.5|1970|     2|volkswagen 1131 d...|\n",
      "+---+----+---------+------------+----------+------+------------+----+------+--------------------+\n",
      "only showing top 20 rows\n",
      "\n"
     ]
    }
   ],
   "source": [
    "df = spark.read.csv('../cars_fixed.csv', header=True)\n",
    "\n",
    "df.show()"
   ],
   "metadata": {
    "collapsed": false,
    "pycharm": {
     "name": "#%%\n"
    }
   }
  },
  {
   "cell_type": "code",
   "execution_count": 9,
   "outputs": [],
   "source": [
    "df.write.json('cars_json')\n"
   ],
   "metadata": {
    "collapsed": false,
    "pycharm": {
     "name": "#%%\n"
    }
   }
  },
  {
   "cell_type": "code",
   "execution_count": null,
   "outputs": [],
   "source": [],
   "metadata": {
    "collapsed": false,
    "pycharm": {
     "name": "#%%\n"
    }
   }
  }
 ],
 "metadata": {
  "kernelspec": {
   "display_name": "Python 3",
   "language": "python",
   "name": "python3"
  },
  "language_info": {
   "codemirror_mode": {
    "name": "ipython",
    "version": 2
   },
   "file_extension": ".py",
   "mimetype": "text/x-python",
   "name": "python",
   "nbconvert_exporter": "python",
   "pygments_lexer": "ipython2",
   "version": "2.7.6"
  }
 },
 "nbformat": 4,
 "nbformat_minor": 0
}