{
 "cells": [
  {
   "cell_type": "markdown",
   "metadata": {
    "collapsed": true,
    "pycharm": {
     "name": "#%% md\n"
    }
   },
   "source": [
    "<h3> Exercise 17: Perfoming DataFrame Operations in Spark"
   ]
  },
  {
   "cell_type": "code",
   "execution_count": 30,
   "outputs": [],
   "source": [
    "from pyspark.sql import SparkSession\n",
    "spark = SparkSession.builder.appName(\"Python Spark Session\").getOrCreate()"
   ],
   "metadata": {
    "collapsed": false,
    "pycharm": {
     "name": "#%%\n"
    }
   }
  },
  {
   "cell_type": "code",
   "execution_count": 31,
   "outputs": [
    {
     "name": "stdout",
     "output_type": "stream",
     "text": [
      "+------+---+-----+\n",
      "|  name|age|heigh|\n",
      "+------+---+-----+\n",
      "|  Adam| 23| 1.98|\n",
      "| Fiona| 34| 1.67|\n",
      "|  Mary| 26| 1.72|\n",
      "|George| 21| 1.83|\n",
      "+------+---+-----+\n",
      "\n"
     ]
    }
   ],
   "source": [
    "df = spark.read.csv(\n",
    "    '../people.csv',\n",
    "    header=True\n",
    ")\n",
    "\n",
    "df.show()"
   ],
   "metadata": {
    "collapsed": false,
    "pycharm": {
     "name": "#%%\n"
    }
   }
  },
  {
   "cell_type": "markdown",
   "source": [
    "<h3>Exercise 18: Accessing Data with Spark\n"
   ],
   "metadata": {
    "collapsed": false,
    "pycharm": {
     "name": "#%% md\n"
    }
   }
  },
  {
   "cell_type": "code",
   "execution_count": 32,
   "outputs": [
    {
     "data": {
      "text/plain": "Column<b'age[Column][age]'>"
     },
     "execution_count": 32,
     "metadata": {},
     "output_type": "execute_result"
    }
   ],
   "source": [
    "df['age'].Column['age']\n"
   ],
   "metadata": {
    "collapsed": false,
    "pycharm": {
     "name": "#%%\n"
    }
   }
  },
  {
   "cell_type": "code",
   "execution_count": 33,
   "outputs": [
    {
     "data": {
      "text/plain": "DataFrame[age: string]"
     },
     "execution_count": 33,
     "metadata": {},
     "output_type": "execute_result"
    }
   ],
   "source": [
    "df.select(df['age'])"
   ],
   "metadata": {
    "collapsed": false,
    "pycharm": {
     "name": "#%%\n"
    }
   }
  },
  {
   "cell_type": "code",
   "execution_count": 34,
   "outputs": [
    {
     "name": "stdout",
     "output_type": "stream",
     "text": [
      "+---+\n",
      "|age|\n",
      "+---+\n",
      "| 23|\n",
      "| 34|\n",
      "| 26|\n",
      "| 21|\n",
      "+---+\n",
      "\n"
     ]
    }
   ],
   "source": [
    "df.select(df['age']).show()\n"
   ],
   "metadata": {
    "collapsed": false,
    "pycharm": {
     "name": "#%%\n"
    }
   }
  },
  {
   "cell_type": "code",
   "execution_count": 35,
   "outputs": [
    {
     "name": "stdout",
     "output_type": "stream",
     "text": [
      "+---+------+\n",
      "|age|  name|\n",
      "+---+------+\n",
      "| 23|  Adam|\n",
      "| 34| Fiona|\n",
      "| 26|  Mary|\n",
      "| 21|George|\n",
      "+---+------+\n",
      "\n"
     ]
    }
   ],
   "source": [
    "df.select(df['age'],df['name']).show()"
   ],
   "metadata": {
    "collapsed": false,
    "pycharm": {
     "name": "#%%\n"
    }
   }
  },
  {
   "cell_type": "markdown",
   "source": [
    "<h3>Exercise 20: Writing Data Back"
   ],
   "metadata": {
    "collapsed": false,
    "pycharm": {
     "name": "#%% md\n"
    }
   }
  },
  {
   "cell_type": "code",
   "execution_count": null,
   "outputs": [
    {
     "name": "stderr",
     "output_type": "stream",
     "text": [
      "ERROR:root:Internal Python error in the inspect module.\n",
      "Below is the traceback from this internal error.\n",
      "\n",
      "ERROR:root:Internal Python error in the inspect module.\n",
      "Below is the traceback from this internal error.\n",
      "\n",
      "ERROR:root:Internal Python error in the inspect module.\n",
      "Below is the traceback from this internal error.\n",
      "\n"
     ]
    },
    {
     "name": "stdout",
     "output_type": "stream",
     "text": [
      "ERROR! Session/line number was not unique in database. History logging moved to new session 41\n",
      "Traceback (most recent call last):\n",
      "  File \"/home/lambi/Pulpit/Magisterskie (copy)/Semestr II/Bid Data Analusis/Exercises/venv/lib/python3.9/site-packages/IPython/core/interactiveshell.py\", line 3418, in run_code\n",
      "    exec(code_obj, self.user_global_ns, self.user_ns)\n",
      "  File \"<ipython-input-37-8bb419a09679>\", line 1, in <module>\n",
      "    df.write.csv('results12.csv', header=True)\n",
      "  File \"/home/lambi/Pulpit/Magisterskie (copy)/Semestr II/Bid Data Analusis/Exercises/venv/lib/python3.9/site-packages/pyspark/sql/readwriter.py\", line 1027, in csv\n",
      "    self._jwrite.csv(path)\n",
      "  File \"/home/lambi/Pulpit/Magisterskie (copy)/Semestr II/Bid Data Analusis/Exercises/venv/lib/python3.9/site-packages/py4j/java_gateway.py\", line 1304, in __call__\n",
      "    return_value = get_return_value(\n",
      "  File \"/home/lambi/Pulpit/Magisterskie (copy)/Semestr II/Bid Data Analusis/Exercises/venv/lib/python3.9/site-packages/pyspark/sql/utils.py\", line 134, in deco\n",
      "    raise_from(converted)\n",
      "  File \"<string>\", line 3, in raise_from\n",
      "pyspark.sql.utils.AnalysisException: path file:/home/lambi/Pulpit/Magisterskie (copy)/Semestr II/Bid Data Analusis/Exercises/Ex4/results12.csv already exists.;\n",
      "\n",
      "During handling of the above exception, another exception occurred:\n",
      "\n",
      "Traceback (most recent call last):\n",
      "  File \"/home/lambi/Pulpit/Magisterskie (copy)/Semestr II/Bid Data Analusis/Exercises/venv/lib/python3.9/site-packages/IPython/core/interactiveshell.py\", line 2045, in showtraceback\n",
      "    stb = value._render_traceback_()\n",
      "AttributeError: 'AnalysisException' object has no attribute '_render_traceback_'\n",
      "\n",
      "During handling of the above exception, another exception occurred:\n",
      "\n",
      "Traceback (most recent call last):\n",
      "  File \"/home/lambi/Pulpit/Magisterskie (copy)/Semestr II/Bid Data Analusis/Exercises/venv/lib/python3.9/site-packages/IPython/core/ultratb.py\", line 1170, in get_records\n",
      "    return _fixed_getinnerframes(etb, number_of_lines_of_context, tb_offset)\n",
      "  File \"/home/lambi/Pulpit/Magisterskie (copy)/Semestr II/Bid Data Analusis/Exercises/venv/lib/python3.9/site-packages/IPython/core/ultratb.py\", line 316, in wrapped\n",
      "    return f(*args, **kwargs)\n",
      "  File \"/home/lambi/Pulpit/Magisterskie (copy)/Semestr II/Bid Data Analusis/Exercises/venv/lib/python3.9/site-packages/IPython/core/ultratb.py\", line 350, in _fixed_getinnerframes\n",
      "    records = fix_frame_records_filenames(inspect.getinnerframes(etb, context))\n",
      "  File \"/usr/lib/python3.9/inspect.py\", line 1529, in getinnerframes\n",
      "    frameinfo = (tb.tb_frame,) + getframeinfo(tb, context)\n",
      "  File \"/usr/lib/python3.9/inspect.py\", line 1487, in getframeinfo\n",
      "    filename = getsourcefile(frame) or getfile(frame)\n",
      "  File \"/usr/lib/python3.9/inspect.py\", line 709, in getsourcefile\n",
      "    if getattr(getmodule(object, filename), '__loader__', None) is not None:\n",
      "  File \"/usr/lib/python3.9/inspect.py\", line 738, in getmodule\n",
      "    file = getabsfile(object, _filename)\n",
      "  File \"/usr/lib/python3.9/inspect.py\", line 722, in getabsfile\n",
      "    return os.path.normcase(os.path.abspath(_filename))\n",
      "  File \"/usr/lib/python3.9/posixpath.py\", line 379, in abspath\n",
      "    cwd = os.getcwd()\n",
      "FileNotFoundError: [Errno 2] No such file or directory\n",
      "Traceback (most recent call last):\n",
      "  File \"/home/lambi/Pulpit/Magisterskie (copy)/Semestr II/Bid Data Analusis/Exercises/venv/lib/python3.9/site-packages/IPython/core/interactiveshell.py\", line 3418, in run_code\n",
      "    exec(code_obj, self.user_global_ns, self.user_ns)\n",
      "  File \"<ipython-input-37-8bb419a09679>\", line 1, in <module>\n",
      "    df.write.csv('results12.csv', header=True)\n",
      "  File \"/home/lambi/Pulpit/Magisterskie (copy)/Semestr II/Bid Data Analusis/Exercises/venv/lib/python3.9/site-packages/pyspark/sql/readwriter.py\", line 1027, in csv\n",
      "    self._jwrite.csv(path)\n",
      "  File \"/home/lambi/Pulpit/Magisterskie (copy)/Semestr II/Bid Data Analusis/Exercises/venv/lib/python3.9/site-packages/py4j/java_gateway.py\", line 1304, in __call__\n",
      "    return_value = get_return_value(\n",
      "  File \"/home/lambi/Pulpit/Magisterskie (copy)/Semestr II/Bid Data Analusis/Exercises/venv/lib/python3.9/site-packages/pyspark/sql/utils.py\", line 134, in deco\n",
      "    raise_from(converted)\n",
      "  File \"<string>\", line 3, in raise_from\n",
      "pyspark.sql.utils.AnalysisException: path file:/home/lambi/Pulpit/Magisterskie (copy)/Semestr II/Bid Data Analusis/Exercises/Ex4/results12.csv already exists.;\n",
      "\n",
      "During handling of the above exception, another exception occurred:\n",
      "\n",
      "Traceback (most recent call last):\n",
      "  File \"/home/lambi/Pulpit/Magisterskie (copy)/Semestr II/Bid Data Analusis/Exercises/venv/lib/python3.9/site-packages/IPython/core/interactiveshell.py\", line 2045, in showtraceback\n",
      "    stb = value._render_traceback_()\n",
      "AttributeError: 'AnalysisException' object has no attribute '_render_traceback_'\n",
      "\n",
      "During handling of the above exception, another exception occurred:\n",
      "\n",
      "Traceback (most recent call last):\n",
      "  File \"/home/lambi/Pulpit/Magisterskie (copy)/Semestr II/Bid Data Analusis/Exercises/venv/lib/python3.9/site-packages/IPython/core/interactiveshell.py\", line 3338, in run_ast_nodes\n",
      "    if (await self.run_code(code, result,  async_=asy)):\n",
      "  File \"/home/lambi/Pulpit/Magisterskie (copy)/Semestr II/Bid Data Analusis/Exercises/venv/lib/python3.9/site-packages/IPython/core/interactiveshell.py\", line 3435, in run_code\n",
      "    self.showtraceback(running_compiled_code=True)\n",
      "  File \"/home/lambi/Pulpit/Magisterskie (copy)/Semestr II/Bid Data Analusis/Exercises/venv/lib/python3.9/site-packages/IPython/core/interactiveshell.py\", line 2047, in showtraceback\n",
      "    stb = self.InteractiveTB.structured_traceback(etype,\n",
      "  File \"/home/lambi/Pulpit/Magisterskie (copy)/Semestr II/Bid Data Analusis/Exercises/venv/lib/python3.9/site-packages/IPython/core/ultratb.py\", line 1436, in structured_traceback\n",
      "    return FormattedTB.structured_traceback(\n",
      "  File \"/home/lambi/Pulpit/Magisterskie (copy)/Semestr II/Bid Data Analusis/Exercises/venv/lib/python3.9/site-packages/IPython/core/ultratb.py\", line 1336, in structured_traceback\n",
      "    return VerboseTB.structured_traceback(\n",
      "  File \"/home/lambi/Pulpit/Magisterskie (copy)/Semestr II/Bid Data Analusis/Exercises/venv/lib/python3.9/site-packages/IPython/core/ultratb.py\", line 1193, in structured_traceback\n",
      "    formatted_exception = self.format_exception_as_a_whole(etype, evalue, etb, number_of_lines_of_context,\n",
      "  File \"/home/lambi/Pulpit/Magisterskie (copy)/Semestr II/Bid Data Analusis/Exercises/venv/lib/python3.9/site-packages/IPython/core/ultratb.py\", line 1151, in format_exception_as_a_whole\n",
      "    last_unique, recursion_repeat = find_recursion(orig_etype, evalue, records)\n",
      "  File \"/home/lambi/Pulpit/Magisterskie (copy)/Semestr II/Bid Data Analusis/Exercises/venv/lib/python3.9/site-packages/IPython/core/ultratb.py\", line 451, in find_recursion\n",
      "    return len(records), 0\n",
      "TypeError: object of type 'NoneType' has no len()\n",
      "\n",
      "During handling of the above exception, another exception occurred:\n",
      "\n",
      "Traceback (most recent call last):\n",
      "  File \"/home/lambi/Pulpit/Magisterskie (copy)/Semestr II/Bid Data Analusis/Exercises/venv/lib/python3.9/site-packages/IPython/core/interactiveshell.py\", line 2045, in showtraceback\n",
      "    stb = value._render_traceback_()\n",
      "AttributeError: 'TypeError' object has no attribute '_render_traceback_'\n",
      "\n",
      "During handling of the above exception, another exception occurred:\n",
      "\n",
      "Traceback (most recent call last):\n",
      "  File \"/home/lambi/Pulpit/Magisterskie (copy)/Semestr II/Bid Data Analusis/Exercises/venv/lib/python3.9/site-packages/IPython/core/ultratb.py\", line 1170, in get_records\n",
      "    return _fixed_getinnerframes(etb, number_of_lines_of_context, tb_offset)\n",
      "  File \"/home/lambi/Pulpit/Magisterskie (copy)/Semestr II/Bid Data Analusis/Exercises/venv/lib/python3.9/site-packages/IPython/core/ultratb.py\", line 316, in wrapped\n",
      "    return f(*args, **kwargs)\n",
      "  File \"/home/lambi/Pulpit/Magisterskie (copy)/Semestr II/Bid Data Analusis/Exercises/venv/lib/python3.9/site-packages/IPython/core/ultratb.py\", line 350, in _fixed_getinnerframes\n",
      "    records = fix_frame_records_filenames(inspect.getinnerframes(etb, context))\n",
      "  File \"/usr/lib/python3.9/inspect.py\", line 1529, in getinnerframes\n",
      "    frameinfo = (tb.tb_frame,) + getframeinfo(tb, context)\n",
      "  File \"/usr/lib/python3.9/inspect.py\", line 1487, in getframeinfo\n",
      "    filename = getsourcefile(frame) or getfile(frame)\n",
      "  File \"/usr/lib/python3.9/inspect.py\", line 709, in getsourcefile\n",
      "    if getattr(getmodule(object, filename), '__loader__', None) is not None:\n",
      "  File \"/usr/lib/python3.9/inspect.py\", line 738, in getmodule\n",
      "    file = getabsfile(object, _filename)\n",
      "  File \"/usr/lib/python3.9/inspect.py\", line 722, in getabsfile\n",
      "    return os.path.normcase(os.path.abspath(_filename))\n",
      "  File \"/usr/lib/python3.9/posixpath.py\", line 379, in abspath\n",
      "    cwd = os.getcwd()\n",
      "FileNotFoundError: [Errno 2] No such file or directory\n",
      "Traceback (most recent call last):\n",
      "  File \"/home/lambi/Pulpit/Magisterskie (copy)/Semestr II/Bid Data Analusis/Exercises/venv/lib/python3.9/site-packages/IPython/core/interactiveshell.py\", line 3418, in run_code\n",
      "    exec(code_obj, self.user_global_ns, self.user_ns)\n",
      "  File \"<ipython-input-37-8bb419a09679>\", line 1, in <module>\n",
      "    df.write.csv('results12.csv', header=True)\n",
      "  File \"/home/lambi/Pulpit/Magisterskie (copy)/Semestr II/Bid Data Analusis/Exercises/venv/lib/python3.9/site-packages/pyspark/sql/readwriter.py\", line 1027, in csv\n",
      "    self._jwrite.csv(path)\n",
      "  File \"/home/lambi/Pulpit/Magisterskie (copy)/Semestr II/Bid Data Analusis/Exercises/venv/lib/python3.9/site-packages/py4j/java_gateway.py\", line 1304, in __call__\n",
      "    return_value = get_return_value(\n",
      "  File \"/home/lambi/Pulpit/Magisterskie (copy)/Semestr II/Bid Data Analusis/Exercises/venv/lib/python3.9/site-packages/pyspark/sql/utils.py\", line 134, in deco\n",
      "    raise_from(converted)\n",
      "  File \"<string>\", line 3, in raise_from\n",
      "pyspark.sql.utils.AnalysisException: path file:/home/lambi/Pulpit/Magisterskie (copy)/Semestr II/Bid Data Analusis/Exercises/Ex4/results12.csv already exists.;\n",
      "\n",
      "During handling of the above exception, another exception occurred:\n",
      "\n",
      "Traceback (most recent call last):\n",
      "  File \"/home/lambi/Pulpit/Magisterskie (copy)/Semestr II/Bid Data Analusis/Exercises/venv/lib/python3.9/site-packages/IPython/core/interactiveshell.py\", line 2045, in showtraceback\n",
      "    stb = value._render_traceback_()\n",
      "AttributeError: 'AnalysisException' object has no attribute '_render_traceback_'\n",
      "\n",
      "During handling of the above exception, another exception occurred:\n",
      "\n",
      "Traceback (most recent call last):\n",
      "  File \"/home/lambi/Pulpit/Magisterskie (copy)/Semestr II/Bid Data Analusis/Exercises/venv/lib/python3.9/site-packages/IPython/core/interactiveshell.py\", line 3338, in run_ast_nodes\n",
      "    if (await self.run_code(code, result,  async_=asy)):\n",
      "  File \"/home/lambi/Pulpit/Magisterskie (copy)/Semestr II/Bid Data Analusis/Exercises/venv/lib/python3.9/site-packages/IPython/core/interactiveshell.py\", line 3435, in run_code\n",
      "    self.showtraceback(running_compiled_code=True)\n",
      "  File \"/home/lambi/Pulpit/Magisterskie (copy)/Semestr II/Bid Data Analusis/Exercises/venv/lib/python3.9/site-packages/IPython/core/interactiveshell.py\", line 2047, in showtraceback\n",
      "    stb = self.InteractiveTB.structured_traceback(etype,\n",
      "  File \"/home/lambi/Pulpit/Magisterskie (copy)/Semestr II/Bid Data Analusis/Exercises/venv/lib/python3.9/site-packages/IPython/core/ultratb.py\", line 1436, in structured_traceback\n",
      "    return FormattedTB.structured_traceback(\n",
      "  File \"/home/lambi/Pulpit/Magisterskie (copy)/Semestr II/Bid Data Analusis/Exercises/venv/lib/python3.9/site-packages/IPython/core/ultratb.py\", line 1336, in structured_traceback\n",
      "    return VerboseTB.structured_traceback(\n",
      "  File \"/home/lambi/Pulpit/Magisterskie (copy)/Semestr II/Bid Data Analusis/Exercises/venv/lib/python3.9/site-packages/IPython/core/ultratb.py\", line 1193, in structured_traceback\n",
      "    formatted_exception = self.format_exception_as_a_whole(etype, evalue, etb, number_of_lines_of_context,\n",
      "  File \"/home/lambi/Pulpit/Magisterskie (copy)/Semestr II/Bid Data Analusis/Exercises/venv/lib/python3.9/site-packages/IPython/core/ultratb.py\", line 1151, in format_exception_as_a_whole\n",
      "    last_unique, recursion_repeat = find_recursion(orig_etype, evalue, records)\n",
      "  File \"/home/lambi/Pulpit/Magisterskie (copy)/Semestr II/Bid Data Analusis/Exercises/venv/lib/python3.9/site-packages/IPython/core/ultratb.py\", line 451, in find_recursion\n",
      "    return len(records), 0\n",
      "TypeError: object of type 'NoneType' has no len()\n",
      "\n",
      "During handling of the above exception, another exception occurred:\n",
      "\n",
      "Traceback (most recent call last):\n",
      "  File \"/home/lambi/Pulpit/Magisterskie (copy)/Semestr II/Bid Data Analusis/Exercises/venv/lib/python3.9/site-packages/IPython/core/interactiveshell.py\", line 2045, in showtraceback\n",
      "    stb = value._render_traceback_()\n",
      "AttributeError: 'TypeError' object has no attribute '_render_traceback_'\n",
      "\n",
      "During handling of the above exception, another exception occurred:\n",
      "\n",
      "Traceback (most recent call last):\n",
      "  File \"/home/lambi/Pulpit/Magisterskie (copy)/Semestr II/Bid Data Analusis/Exercises/venv/lib/python3.9/site-packages/IPython/core/interactiveshell.py\", line 2923, in _run_cell\n",
      "    return runner(coro)\n",
      "  File \"/home/lambi/Pulpit/Magisterskie (copy)/Semestr II/Bid Data Analusis/Exercises/venv/lib/python3.9/site-packages/IPython/core/async_helpers.py\", line 68, in _pseudo_sync_runner\n",
      "    coro.send(None)\n",
      "  File \"/home/lambi/Pulpit/Magisterskie (copy)/Semestr II/Bid Data Analusis/Exercises/venv/lib/python3.9/site-packages/IPython/core/interactiveshell.py\", line 3146, in run_cell_async\n",
      "    has_raised = await self.run_ast_nodes(code_ast.body, cell_name,\n",
      "  File \"/home/lambi/Pulpit/Magisterskie (copy)/Semestr II/Bid Data Analusis/Exercises/venv/lib/python3.9/site-packages/IPython/core/interactiveshell.py\", line 3357, in run_ast_nodes\n",
      "    self.showtraceback()\n",
      "  File \"/home/lambi/Pulpit/Magisterskie (copy)/Semestr II/Bid Data Analusis/Exercises/venv/lib/python3.9/site-packages/IPython/core/interactiveshell.py\", line 2047, in showtraceback\n",
      "    stb = self.InteractiveTB.structured_traceback(etype,\n",
      "  File \"/home/lambi/Pulpit/Magisterskie (copy)/Semestr II/Bid Data Analusis/Exercises/venv/lib/python3.9/site-packages/IPython/core/ultratb.py\", line 1436, in structured_traceback\n",
      "    return FormattedTB.structured_traceback(\n",
      "  File \"/home/lambi/Pulpit/Magisterskie (copy)/Semestr II/Bid Data Analusis/Exercises/venv/lib/python3.9/site-packages/IPython/core/ultratb.py\", line 1336, in structured_traceback\n",
      "    return VerboseTB.structured_traceback(\n",
      "  File \"/home/lambi/Pulpit/Magisterskie (copy)/Semestr II/Bid Data Analusis/Exercises/venv/lib/python3.9/site-packages/IPython/core/ultratb.py\", line 1211, in structured_traceback\n",
      "    formatted_exceptions += self.format_exception_as_a_whole(etype, evalue, etb, lines_of_context,\n",
      "  File \"/home/lambi/Pulpit/Magisterskie (copy)/Semestr II/Bid Data Analusis/Exercises/venv/lib/python3.9/site-packages/IPython/core/ultratb.py\", line 1151, in format_exception_as_a_whole\n",
      "    last_unique, recursion_repeat = find_recursion(orig_etype, evalue, records)\n",
      "  File \"/home/lambi/Pulpit/Magisterskie (copy)/Semestr II/Bid Data Analusis/Exercises/venv/lib/python3.9/site-packages/IPython/core/ultratb.py\", line 451, in find_recursion\n",
      "    return len(records), 0\n",
      "TypeError: object of type 'NoneType' has no len()\n",
      "\n",
      "During handling of the above exception, another exception occurred:\n",
      "\n",
      "Traceback (most recent call last):\n",
      "  File \"/home/lambi/Pulpit/Magisterskie (copy)/Semestr II/Bid Data Analusis/Exercises/venv/lib/python3.9/site-packages/IPython/core/interactiveshell.py\", line 2045, in showtraceback\n",
      "    stb = value._render_traceback_()\n",
      "AttributeError: 'TypeError' object has no attribute '_render_traceback_'\n",
      "\n",
      "During handling of the above exception, another exception occurred:\n",
      "\n",
      "Traceback (most recent call last):\n",
      "  File \"/home/lambi/Pulpit/Magisterskie (copy)/Semestr II/Bid Data Analusis/Exercises/venv/lib/python3.9/site-packages/IPython/core/ultratb.py\", line 1170, in get_records\n",
      "    return _fixed_getinnerframes(etb, number_of_lines_of_context, tb_offset)\n",
      "  File \"/home/lambi/Pulpit/Magisterskie (copy)/Semestr II/Bid Data Analusis/Exercises/venv/lib/python3.9/site-packages/IPython/core/ultratb.py\", line 316, in wrapped\n",
      "    return f(*args, **kwargs)\n",
      "  File \"/home/lambi/Pulpit/Magisterskie (copy)/Semestr II/Bid Data Analusis/Exercises/venv/lib/python3.9/site-packages/IPython/core/ultratb.py\", line 350, in _fixed_getinnerframes\n",
      "    records = fix_frame_records_filenames(inspect.getinnerframes(etb, context))\n",
      "  File \"/usr/lib/python3.9/inspect.py\", line 1529, in getinnerframes\n",
      "    frameinfo = (tb.tb_frame,) + getframeinfo(tb, context)\n",
      "  File \"/usr/lib/python3.9/inspect.py\", line 1487, in getframeinfo\n",
      "    filename = getsourcefile(frame) or getfile(frame)\n",
      "  File \"/usr/lib/python3.9/inspect.py\", line 709, in getsourcefile\n",
      "    if getattr(getmodule(object, filename), '__loader__', None) is not None:\n",
      "  File \"/usr/lib/python3.9/inspect.py\", line 738, in getmodule\n",
      "    file = getabsfile(object, _filename)\n",
      "  File \"/usr/lib/python3.9/inspect.py\", line 722, in getabsfile\n",
      "    return os.path.normcase(os.path.abspath(_filename))\n",
      "  File \"/usr/lib/python3.9/posixpath.py\", line 379, in abspath\n",
      "    cwd = os.getcwd()\n",
      "FileNotFoundError: [Errno 2] No such file or directory\n"
     ]
    }
   ],
   "source": [
    "df.write.csv('results12.csv', header=True)"
   ],
   "metadata": {
    "collapsed": false,
    "pycharm": {
     "name": "#%%\n",
     "is_executing": true
    }
   }
  },
  {
   "cell_type": "code",
   "execution_count": 36,
   "outputs": [
    {
     "name": "stdout",
     "output_type": "stream",
     "text": [
      "ERROR! Session/line number was not unique in database. History logging moved to new session 40\n",
      "+------+---+-----+\n",
      "|  name|age|heigh|\n",
      "+------+---+-----+\n",
      "|  Adam| 23| 1.98|\n",
      "| Fiona| 34| 1.67|\n",
      "|  Mary| 26| 1.72|\n",
      "|George| 21| 1.83|\n",
      "+------+---+-----+\n",
      "\n"
     ]
    }
   ],
   "source": [
    "df =spark.read.csv('results12.csv/',header=True)\n",
    "df.show()"
   ],
   "metadata": {
    "collapsed": false,
    "pycharm": {
     "name": "#%%\n"
    }
   }
  },
  {
   "cell_type": "code",
   "execution_count": null,
   "outputs": [
    {
     "name": "stderr",
     "output_type": "stream",
     "text": [
      "ERROR:root:Internal Python error in the inspect module.\n",
      "Below is the traceback from this internal error.\n",
      "\n",
      "ERROR:root:Internal Python error in the inspect module.\n",
      "Below is the traceback from this internal error.\n",
      "\n",
      "ERROR:root:Internal Python error in the inspect module.\n",
      "Below is the traceback from this internal error.\n",
      "\n"
     ]
    },
    {
     "name": "stdout",
     "output_type": "stream",
     "text": [
      "ERROR! Session/line number was not unique in database. History logging moved to new session 45\n",
      "Traceback (most recent call last):\n",
      "  File \"/home/lambi/Pulpit/Magisterskie (copy)/Semestr II/Bid Data Analusis/Exercises/venv/lib/python3.9/site-packages/IPython/core/interactiveshell.py\", line 3418, in run_code\n",
      "    exec(code_obj, self.user_global_ns, self.user_ns)\n",
      "  File \"<ipython-input-37-2622d4fbe539>\", line 1, in <module>\n",
      "    df.write.json('json_result.json')\n",
      "  File \"/home/lambi/Pulpit/Magisterskie (copy)/Semestr II/Bid Data Analusis/Exercises/venv/lib/python3.9/site-packages/pyspark/sql/readwriter.py\", line 909, in json\n",
      "    self._jwrite.json(path)\n",
      "  File \"/home/lambi/Pulpit/Magisterskie (copy)/Semestr II/Bid Data Analusis/Exercises/venv/lib/python3.9/site-packages/py4j/java_gateway.py\", line 1304, in __call__\n",
      "    return_value = get_return_value(\n",
      "  File \"/home/lambi/Pulpit/Magisterskie (copy)/Semestr II/Bid Data Analusis/Exercises/venv/lib/python3.9/site-packages/pyspark/sql/utils.py\", line 134, in deco\n",
      "    raise_from(converted)\n",
      "  File \"<string>\", line 3, in raise_from\n",
      "pyspark.sql.utils.AnalysisException: path file:/home/lambi/Pulpit/Magisterskie (copy)/Semestr II/Bid Data Analusis/Exercises/Ex4/json_result.json already exists.;\n",
      "\n",
      "During handling of the above exception, another exception occurred:\n",
      "\n",
      "Traceback (most recent call last):\n",
      "  File \"/home/lambi/Pulpit/Magisterskie (copy)/Semestr II/Bid Data Analusis/Exercises/venv/lib/python3.9/site-packages/IPython/core/interactiveshell.py\", line 2045, in showtraceback\n",
      "    stb = value._render_traceback_()\n",
      "AttributeError: 'AnalysisException' object has no attribute '_render_traceback_'\n",
      "\n",
      "During handling of the above exception, another exception occurred:\n",
      "\n",
      "Traceback (most recent call last):\n",
      "  File \"/home/lambi/Pulpit/Magisterskie (copy)/Semestr II/Bid Data Analusis/Exercises/venv/lib/python3.9/site-packages/IPython/core/ultratb.py\", line 1170, in get_records\n",
      "    return _fixed_getinnerframes(etb, number_of_lines_of_context, tb_offset)\n",
      "  File \"/home/lambi/Pulpit/Magisterskie (copy)/Semestr II/Bid Data Analusis/Exercises/venv/lib/python3.9/site-packages/IPython/core/ultratb.py\", line 316, in wrapped\n",
      "    return f(*args, **kwargs)\n",
      "  File \"/home/lambi/Pulpit/Magisterskie (copy)/Semestr II/Bid Data Analusis/Exercises/venv/lib/python3.9/site-packages/IPython/core/ultratb.py\", line 350, in _fixed_getinnerframes\n",
      "    records = fix_frame_records_filenames(inspect.getinnerframes(etb, context))\n",
      "  File \"/usr/lib/python3.9/inspect.py\", line 1529, in getinnerframes\n",
      "    frameinfo = (tb.tb_frame,) + getframeinfo(tb, context)\n",
      "  File \"/usr/lib/python3.9/inspect.py\", line 1487, in getframeinfo\n",
      "    filename = getsourcefile(frame) or getfile(frame)\n",
      "  File \"/usr/lib/python3.9/inspect.py\", line 709, in getsourcefile\n",
      "    if getattr(getmodule(object, filename), '__loader__', None) is not None:\n",
      "  File \"/usr/lib/python3.9/inspect.py\", line 738, in getmodule\n",
      "    file = getabsfile(object, _filename)\n",
      "  File \"/usr/lib/python3.9/inspect.py\", line 722, in getabsfile\n",
      "    return os.path.normcase(os.path.abspath(_filename))\n",
      "  File \"/usr/lib/python3.9/posixpath.py\", line 379, in abspath\n",
      "    cwd = os.getcwd()\n",
      "FileNotFoundError: [Errno 2] No such file or directory\n",
      "Traceback (most recent call last):\n",
      "  File \"/home/lambi/Pulpit/Magisterskie (copy)/Semestr II/Bid Data Analusis/Exercises/venv/lib/python3.9/site-packages/IPython/core/interactiveshell.py\", line 3418, in run_code\n",
      "    exec(code_obj, self.user_global_ns, self.user_ns)\n",
      "  File \"<ipython-input-37-2622d4fbe539>\", line 1, in <module>\n",
      "    df.write.json('json_result.json')\n",
      "  File \"/home/lambi/Pulpit/Magisterskie (copy)/Semestr II/Bid Data Analusis/Exercises/venv/lib/python3.9/site-packages/pyspark/sql/readwriter.py\", line 909, in json\n",
      "    self._jwrite.json(path)\n",
      "  File \"/home/lambi/Pulpit/Magisterskie (copy)/Semestr II/Bid Data Analusis/Exercises/venv/lib/python3.9/site-packages/py4j/java_gateway.py\", line 1304, in __call__\n",
      "    return_value = get_return_value(\n",
      "  File \"/home/lambi/Pulpit/Magisterskie (copy)/Semestr II/Bid Data Analusis/Exercises/venv/lib/python3.9/site-packages/pyspark/sql/utils.py\", line 134, in deco\n",
      "    raise_from(converted)\n",
      "  File \"<string>\", line 3, in raise_from\n",
      "pyspark.sql.utils.AnalysisException: path file:/home/lambi/Pulpit/Magisterskie (copy)/Semestr II/Bid Data Analusis/Exercises/Ex4/json_result.json already exists.;\n",
      "\n",
      "During handling of the above exception, another exception occurred:\n",
      "\n",
      "Traceback (most recent call last):\n",
      "  File \"/home/lambi/Pulpit/Magisterskie (copy)/Semestr II/Bid Data Analusis/Exercises/venv/lib/python3.9/site-packages/IPython/core/interactiveshell.py\", line 2045, in showtraceback\n",
      "    stb = value._render_traceback_()\n",
      "AttributeError: 'AnalysisException' object has no attribute '_render_traceback_'\n",
      "\n",
      "During handling of the above exception, another exception occurred:\n",
      "\n",
      "Traceback (most recent call last):\n",
      "  File \"/home/lambi/Pulpit/Magisterskie (copy)/Semestr II/Bid Data Analusis/Exercises/venv/lib/python3.9/site-packages/IPython/core/interactiveshell.py\", line 3338, in run_ast_nodes\n",
      "    if (await self.run_code(code, result,  async_=asy)):\n",
      "  File \"/home/lambi/Pulpit/Magisterskie (copy)/Semestr II/Bid Data Analusis/Exercises/venv/lib/python3.9/site-packages/IPython/core/interactiveshell.py\", line 3435, in run_code\n",
      "    self.showtraceback(running_compiled_code=True)\n",
      "  File \"/home/lambi/Pulpit/Magisterskie (copy)/Semestr II/Bid Data Analusis/Exercises/venv/lib/python3.9/site-packages/IPython/core/interactiveshell.py\", line 2047, in showtraceback\n",
      "    stb = self.InteractiveTB.structured_traceback(etype,\n",
      "  File \"/home/lambi/Pulpit/Magisterskie (copy)/Semestr II/Bid Data Analusis/Exercises/venv/lib/python3.9/site-packages/IPython/core/ultratb.py\", line 1436, in structured_traceback\n",
      "    return FormattedTB.structured_traceback(\n",
      "  File \"/home/lambi/Pulpit/Magisterskie (copy)/Semestr II/Bid Data Analusis/Exercises/venv/lib/python3.9/site-packages/IPython/core/ultratb.py\", line 1336, in structured_traceback\n",
      "    return VerboseTB.structured_traceback(\n",
      "  File \"/home/lambi/Pulpit/Magisterskie (copy)/Semestr II/Bid Data Analusis/Exercises/venv/lib/python3.9/site-packages/IPython/core/ultratb.py\", line 1193, in structured_traceback\n",
      "    formatted_exception = self.format_exception_as_a_whole(etype, evalue, etb, number_of_lines_of_context,\n",
      "  File \"/home/lambi/Pulpit/Magisterskie (copy)/Semestr II/Bid Data Analusis/Exercises/venv/lib/python3.9/site-packages/IPython/core/ultratb.py\", line 1151, in format_exception_as_a_whole\n",
      "    last_unique, recursion_repeat = find_recursion(orig_etype, evalue, records)\n",
      "  File \"/home/lambi/Pulpit/Magisterskie (copy)/Semestr II/Bid Data Analusis/Exercises/venv/lib/python3.9/site-packages/IPython/core/ultratb.py\", line 451, in find_recursion\n",
      "    return len(records), 0\n",
      "TypeError: object of type 'NoneType' has no len()\n",
      "\n",
      "During handling of the above exception, another exception occurred:\n",
      "\n",
      "Traceback (most recent call last):\n",
      "  File \"/home/lambi/Pulpit/Magisterskie (copy)/Semestr II/Bid Data Analusis/Exercises/venv/lib/python3.9/site-packages/IPython/core/interactiveshell.py\", line 2045, in showtraceback\n",
      "    stb = value._render_traceback_()\n",
      "AttributeError: 'TypeError' object has no attribute '_render_traceback_'\n",
      "\n",
      "During handling of the above exception, another exception occurred:\n",
      "\n",
      "Traceback (most recent call last):\n",
      "  File \"/home/lambi/Pulpit/Magisterskie (copy)/Semestr II/Bid Data Analusis/Exercises/venv/lib/python3.9/site-packages/IPython/core/ultratb.py\", line 1170, in get_records\n",
      "    return _fixed_getinnerframes(etb, number_of_lines_of_context, tb_offset)\n",
      "  File \"/home/lambi/Pulpit/Magisterskie (copy)/Semestr II/Bid Data Analusis/Exercises/venv/lib/python3.9/site-packages/IPython/core/ultratb.py\", line 316, in wrapped\n",
      "    return f(*args, **kwargs)\n",
      "  File \"/home/lambi/Pulpit/Magisterskie (copy)/Semestr II/Bid Data Analusis/Exercises/venv/lib/python3.9/site-packages/IPython/core/ultratb.py\", line 350, in _fixed_getinnerframes\n",
      "    records = fix_frame_records_filenames(inspect.getinnerframes(etb, context))\n",
      "  File \"/usr/lib/python3.9/inspect.py\", line 1529, in getinnerframes\n",
      "    frameinfo = (tb.tb_frame,) + getframeinfo(tb, context)\n",
      "  File \"/usr/lib/python3.9/inspect.py\", line 1487, in getframeinfo\n",
      "    filename = getsourcefile(frame) or getfile(frame)\n",
      "  File \"/usr/lib/python3.9/inspect.py\", line 709, in getsourcefile\n",
      "    if getattr(getmodule(object, filename), '__loader__', None) is not None:\n",
      "  File \"/usr/lib/python3.9/inspect.py\", line 738, in getmodule\n",
      "    file = getabsfile(object, _filename)\n",
      "  File \"/usr/lib/python3.9/inspect.py\", line 722, in getabsfile\n",
      "    return os.path.normcase(os.path.abspath(_filename))\n",
      "  File \"/usr/lib/python3.9/posixpath.py\", line 379, in abspath\n",
      "    cwd = os.getcwd()\n",
      "FileNotFoundError: [Errno 2] No such file or directory\n",
      "Traceback (most recent call last):\n",
      "  File \"/home/lambi/Pulpit/Magisterskie (copy)/Semestr II/Bid Data Analusis/Exercises/venv/lib/python3.9/site-packages/IPython/core/interactiveshell.py\", line 3418, in run_code\n",
      "    exec(code_obj, self.user_global_ns, self.user_ns)\n",
      "  File \"<ipython-input-37-2622d4fbe539>\", line 1, in <module>\n",
      "    df.write.json('json_result.json')\n",
      "  File \"/home/lambi/Pulpit/Magisterskie (copy)/Semestr II/Bid Data Analusis/Exercises/venv/lib/python3.9/site-packages/pyspark/sql/readwriter.py\", line 909, in json\n",
      "    self._jwrite.json(path)\n",
      "  File \"/home/lambi/Pulpit/Magisterskie (copy)/Semestr II/Bid Data Analusis/Exercises/venv/lib/python3.9/site-packages/py4j/java_gateway.py\", line 1304, in __call__\n",
      "    return_value = get_return_value(\n",
      "  File \"/home/lambi/Pulpit/Magisterskie (copy)/Semestr II/Bid Data Analusis/Exercises/venv/lib/python3.9/site-packages/pyspark/sql/utils.py\", line 134, in deco\n",
      "    raise_from(converted)\n",
      "  File \"<string>\", line 3, in raise_from\n",
      "pyspark.sql.utils.AnalysisException: path file:/home/lambi/Pulpit/Magisterskie (copy)/Semestr II/Bid Data Analusis/Exercises/Ex4/json_result.json already exists.;\n",
      "\n",
      "During handling of the above exception, another exception occurred:\n",
      "\n",
      "Traceback (most recent call last):\n",
      "  File \"/home/lambi/Pulpit/Magisterskie (copy)/Semestr II/Bid Data Analusis/Exercises/venv/lib/python3.9/site-packages/IPython/core/interactiveshell.py\", line 2045, in showtraceback\n",
      "    stb = value._render_traceback_()\n",
      "AttributeError: 'AnalysisException' object has no attribute '_render_traceback_'\n",
      "\n",
      "During handling of the above exception, another exception occurred:\n",
      "\n",
      "Traceback (most recent call last):\n",
      "  File \"/home/lambi/Pulpit/Magisterskie (copy)/Semestr II/Bid Data Analusis/Exercises/venv/lib/python3.9/site-packages/IPython/core/interactiveshell.py\", line 3338, in run_ast_nodes\n",
      "    if (await self.run_code(code, result,  async_=asy)):\n",
      "  File \"/home/lambi/Pulpit/Magisterskie (copy)/Semestr II/Bid Data Analusis/Exercises/venv/lib/python3.9/site-packages/IPython/core/interactiveshell.py\", line 3435, in run_code\n",
      "    self.showtraceback(running_compiled_code=True)\n",
      "  File \"/home/lambi/Pulpit/Magisterskie (copy)/Semestr II/Bid Data Analusis/Exercises/venv/lib/python3.9/site-packages/IPython/core/interactiveshell.py\", line 2047, in showtraceback\n",
      "    stb = self.InteractiveTB.structured_traceback(etype,\n",
      "  File \"/home/lambi/Pulpit/Magisterskie (copy)/Semestr II/Bid Data Analusis/Exercises/venv/lib/python3.9/site-packages/IPython/core/ultratb.py\", line 1436, in structured_traceback\n",
      "    return FormattedTB.structured_traceback(\n",
      "  File \"/home/lambi/Pulpit/Magisterskie (copy)/Semestr II/Bid Data Analusis/Exercises/venv/lib/python3.9/site-packages/IPython/core/ultratb.py\", line 1336, in structured_traceback\n",
      "    return VerboseTB.structured_traceback(\n",
      "  File \"/home/lambi/Pulpit/Magisterskie (copy)/Semestr II/Bid Data Analusis/Exercises/venv/lib/python3.9/site-packages/IPython/core/ultratb.py\", line 1193, in structured_traceback\n",
      "    formatted_exception = self.format_exception_as_a_whole(etype, evalue, etb, number_of_lines_of_context,\n",
      "  File \"/home/lambi/Pulpit/Magisterskie (copy)/Semestr II/Bid Data Analusis/Exercises/venv/lib/python3.9/site-packages/IPython/core/ultratb.py\", line 1151, in format_exception_as_a_whole\n",
      "    last_unique, recursion_repeat = find_recursion(orig_etype, evalue, records)\n",
      "  File \"/home/lambi/Pulpit/Magisterskie (copy)/Semestr II/Bid Data Analusis/Exercises/venv/lib/python3.9/site-packages/IPython/core/ultratb.py\", line 451, in find_recursion\n",
      "    return len(records), 0\n",
      "TypeError: object of type 'NoneType' has no len()\n",
      "\n",
      "During handling of the above exception, another exception occurred:\n",
      "\n",
      "Traceback (most recent call last):\n",
      "  File \"/home/lambi/Pulpit/Magisterskie (copy)/Semestr II/Bid Data Analusis/Exercises/venv/lib/python3.9/site-packages/IPython/core/interactiveshell.py\", line 2045, in showtraceback\n",
      "    stb = value._render_traceback_()\n",
      "AttributeError: 'TypeError' object has no attribute '_render_traceback_'\n",
      "\n",
      "During handling of the above exception, another exception occurred:\n",
      "\n",
      "Traceback (most recent call last):\n",
      "  File \"/home/lambi/Pulpit/Magisterskie (copy)/Semestr II/Bid Data Analusis/Exercises/venv/lib/python3.9/site-packages/IPython/core/interactiveshell.py\", line 2923, in _run_cell\n",
      "    return runner(coro)\n",
      "  File \"/home/lambi/Pulpit/Magisterskie (copy)/Semestr II/Bid Data Analusis/Exercises/venv/lib/python3.9/site-packages/IPython/core/async_helpers.py\", line 68, in _pseudo_sync_runner\n",
      "    coro.send(None)\n",
      "  File \"/home/lambi/Pulpit/Magisterskie (copy)/Semestr II/Bid Data Analusis/Exercises/venv/lib/python3.9/site-packages/IPython/core/interactiveshell.py\", line 3146, in run_cell_async\n",
      "    has_raised = await self.run_ast_nodes(code_ast.body, cell_name,\n",
      "  File \"/home/lambi/Pulpit/Magisterskie (copy)/Semestr II/Bid Data Analusis/Exercises/venv/lib/python3.9/site-packages/IPython/core/interactiveshell.py\", line 3357, in run_ast_nodes\n",
      "    self.showtraceback()\n",
      "  File \"/home/lambi/Pulpit/Magisterskie (copy)/Semestr II/Bid Data Analusis/Exercises/venv/lib/python3.9/site-packages/IPython/core/interactiveshell.py\", line 2047, in showtraceback\n",
      "    stb = self.InteractiveTB.structured_traceback(etype,\n",
      "  File \"/home/lambi/Pulpit/Magisterskie (copy)/Semestr II/Bid Data Analusis/Exercises/venv/lib/python3.9/site-packages/IPython/core/ultratb.py\", line 1436, in structured_traceback\n",
      "    return FormattedTB.structured_traceback(\n",
      "  File \"/home/lambi/Pulpit/Magisterskie (copy)/Semestr II/Bid Data Analusis/Exercises/venv/lib/python3.9/site-packages/IPython/core/ultratb.py\", line 1336, in structured_traceback\n",
      "    return VerboseTB.structured_traceback(\n",
      "  File \"/home/lambi/Pulpit/Magisterskie (copy)/Semestr II/Bid Data Analusis/Exercises/venv/lib/python3.9/site-packages/IPython/core/ultratb.py\", line 1211, in structured_traceback\n",
      "    formatted_exceptions += self.format_exception_as_a_whole(etype, evalue, etb, lines_of_context,\n",
      "  File \"/home/lambi/Pulpit/Magisterskie (copy)/Semestr II/Bid Data Analusis/Exercises/venv/lib/python3.9/site-packages/IPython/core/ultratb.py\", line 1151, in format_exception_as_a_whole\n",
      "    last_unique, recursion_repeat = find_recursion(orig_etype, evalue, records)\n",
      "  File \"/home/lambi/Pulpit/Magisterskie (copy)/Semestr II/Bid Data Analusis/Exercises/venv/lib/python3.9/site-packages/IPython/core/ultratb.py\", line 451, in find_recursion\n",
      "    return len(records), 0\n",
      "TypeError: object of type 'NoneType' has no len()\n",
      "\n",
      "During handling of the above exception, another exception occurred:\n",
      "\n",
      "Traceback (most recent call last):\n",
      "  File \"/home/lambi/Pulpit/Magisterskie (copy)/Semestr II/Bid Data Analusis/Exercises/venv/lib/python3.9/site-packages/IPython/core/interactiveshell.py\", line 2045, in showtraceback\n",
      "    stb = value._render_traceback_()\n",
      "AttributeError: 'TypeError' object has no attribute '_render_traceback_'\n",
      "\n",
      "During handling of the above exception, another exception occurred:\n",
      "\n",
      "Traceback (most recent call last):\n",
      "  File \"/home/lambi/Pulpit/Magisterskie (copy)/Semestr II/Bid Data Analusis/Exercises/venv/lib/python3.9/site-packages/IPython/core/ultratb.py\", line 1170, in get_records\n",
      "    return _fixed_getinnerframes(etb, number_of_lines_of_context, tb_offset)\n",
      "  File \"/home/lambi/Pulpit/Magisterskie (copy)/Semestr II/Bid Data Analusis/Exercises/venv/lib/python3.9/site-packages/IPython/core/ultratb.py\", line 316, in wrapped\n",
      "    return f(*args, **kwargs)\n",
      "  File \"/home/lambi/Pulpit/Magisterskie (copy)/Semestr II/Bid Data Analusis/Exercises/venv/lib/python3.9/site-packages/IPython/core/ultratb.py\", line 350, in _fixed_getinnerframes\n",
      "    records = fix_frame_records_filenames(inspect.getinnerframes(etb, context))\n",
      "  File \"/usr/lib/python3.9/inspect.py\", line 1529, in getinnerframes\n",
      "    frameinfo = (tb.tb_frame,) + getframeinfo(tb, context)\n",
      "  File \"/usr/lib/python3.9/inspect.py\", line 1487, in getframeinfo\n",
      "    filename = getsourcefile(frame) or getfile(frame)\n",
      "  File \"/usr/lib/python3.9/inspect.py\", line 709, in getsourcefile\n",
      "    if getattr(getmodule(object, filename), '__loader__', None) is not None:\n",
      "  File \"/usr/lib/python3.9/inspect.py\", line 738, in getmodule\n",
      "    file = getabsfile(object, _filename)\n",
      "  File \"/usr/lib/python3.9/inspect.py\", line 722, in getabsfile\n",
      "    return os.path.normcase(os.path.abspath(_filename))\n",
      "  File \"/usr/lib/python3.9/posixpath.py\", line 379, in abspath\n",
      "    cwd = os.getcwd()\n",
      "FileNotFoundError: [Errno 2] No such file or directory\n"
     ]
    }
   ],
   "source": [
    "df.write.json('json_result.json')"
   ],
   "metadata": {
    "collapsed": false,
    "pycharm": {
     "name": "#%%\n",
     "is_executing": true
    }
   }
  },
  {
   "cell_type": "code",
   "execution_count": null,
   "outputs": [],
   "source": [],
   "metadata": {
    "collapsed": false,
    "pycharm": {
     "name": "#%%\n"
    }
   }
  }
 ],
 "metadata": {
  "kernelspec": {
   "display_name": "Python 3",
   "language": "python",
   "name": "python3"
  },
  "language_info": {
   "codemirror_mode": {
    "name": "ipython",
    "version": 2
   },
   "file_extension": ".py",
   "mimetype": "text/x-python",
   "name": "python",
   "nbconvert_exporter": "python",
   "pygments_lexer": "ipython2",
   "version": "2.7.6"
  }
 },
 "nbformat": 4,
 "nbformat_minor": 0
}