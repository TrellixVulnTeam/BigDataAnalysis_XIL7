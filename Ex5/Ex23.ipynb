{
 "cells": [
  {
   "cell_type": "markdown",
   "metadata": {
    "collapsed": true,
    "pycharm": {
     "name": "#%% md\n",
     "is_executing": true
    }
   },
   "source": [
    "<h2> Exercise 23: Parsing text and cleaning"
   ],
   "outputs": [
    {
     "ename": "SyntaxError",
     "evalue": "invalid syntax (<ipython-input-1-5230008f6ae1>, line 1)",
     "output_type": "error",
     "traceback": [
      "\u001B[0;36m  File \u001B[0;32m\"<ipython-input-1-5230008f6ae1>\"\u001B[0;36m, line \u001B[0;32m1\u001B[0m\n\u001B[0;31m    <h2> Exercise 23: Parsing text and cleaning\u001B[0m\n\u001B[0m    ^\u001B[0m\n\u001B[0;31mSyntaxError\u001B[0m\u001B[0;31m:\u001B[0m invalid syntax\n"
     ]
    }
   ]
  },
  {
   "cell_type": "code",
   "execution_count": 2,
   "outputs": [],
   "source": [
    "from pyspark.sql import SparkSession\n",
    "spark = SparkSession.builder.appName(\"Ex23\").getOrCreate()"
   ],
   "metadata": {
    "collapsed": false,
    "pycharm": {
     "name": "#%%\n"
    }
   }
  },
  {
   "cell_type": "code",
   "execution_count": 3,
   "outputs": [],
   "source": [
    "df_rdd = spark.read.text(\"../poem.txt\").rdd"
   ],
   "metadata": {
    "collapsed": false,
    "pycharm": {
     "name": "#%%\n"
    }
   }
  },
  {
   "cell_type": "code",
   "execution_count": 6,
   "outputs": [
    {
     "name": "stdout",
     "output_type": "stream",
     "text": [
      "PythonRDD[7] at RDD at PythonRDD.scala:53\n"
     ]
    }
   ],
   "source": [
    "lines = df_rdd.map(lambda line: line[0])"
   ],
   "metadata": {
    "collapsed": false,
    "pycharm": {
     "name": "#%%\n"
    }
   }
  },
  {
   "cell_type": "code",
   "execution_count": 8,
   "outputs": [
    {
     "data": {
      "text/plain": "['To be, or not to be, that is the question:',\n \"Whether 'tis nobler in the mind to suffer\",\n 'The slings and arrows of outrageous fortune,',\n 'Or to take arms against a sea of troubles',\n 'And by opposing end them. To die—to sleep,',\n 'No more; and by a sleep to say we end',\n 'The heart-ache and the thousand natural shocks',\n \"That flesh is heir to: 'tis a consummation\",\n \"Devoutly to be wish'd. To die, to sleep;\",\n \"To sleep, perchance to dream—ay, there's the rub:\",\n 'For in that sleep of death what dreams may come,',\n 'When we have shuffled off this mortal coil,',\n \"Must give us pause—there's the respect\",\n 'That makes calamity of so long life.']"
     },
     "execution_count": 8,
     "metadata": {},
     "output_type": "execute_result"
    }
   ],
   "source": [
    "lines.collect()"
   ],
   "metadata": {
    "collapsed": false,
    "pycharm": {
     "name": "#%%\n"
    }
   }
  },
  {
   "cell_type": "code",
   "execution_count": 9,
   "outputs": [
    {
     "data": {
      "text/plain": "14"
     },
     "execution_count": 9,
     "metadata": {},
     "output_type": "execute_result"
    }
   ],
   "source": [
    "lines.count()"
   ],
   "metadata": {
    "collapsed": false,
    "pycharm": {
     "name": "#%%\n"
    }
   }
  },
  {
   "cell_type": "code",
   "execution_count": 30,
   "outputs": [],
   "source": [
    "# splits = lines.map(lambda x: x.split())\n",
    "splits = lines.flatMap(lambda x: x.split(' '))\n",
    "# splits.collect()"
   ],
   "metadata": {
    "collapsed": false,
    "pycharm": {
     "name": "#%%\n"
    }
   }
  },
  {
   "cell_type": "code",
   "execution_count": 32,
   "outputs": [],
   "source": [
    "lower_splits = splits.map(lambda x: x.lower().strip())"
   ],
   "metadata": {
    "collapsed": false,
    "pycharm": {
     "name": "#%%\n"
    }
   }
  },
  {
   "cell_type": "code",
   "execution_count": 33,
   "outputs": [],
   "source": [
    "prep = ['the','a',',''.']"
   ],
   "metadata": {
    "collapsed": false,
    "pycharm": {
     "name": "#%%\n"
    }
   }
  },
  {
   "cell_type": "code",
   "execution_count": 34,
   "outputs": [],
   "source": [
    "tokens = lower_splits.filter(lambda x: x and x not in prep)"
   ],
   "metadata": {
    "collapsed": false,
    "pycharm": {
     "name": "#%%\n"
    }
   }
  },
  {
   "cell_type": "code",
   "execution_count": 35,
   "outputs": [
    {
     "data": {
      "text/plain": "['to',\n 'be,',\n 'or',\n 'not',\n 'to',\n 'be,',\n 'that',\n 'is',\n 'question:',\n 'whether',\n \"'tis\",\n 'nobler',\n 'in',\n 'mind',\n 'to',\n 'suffer',\n 'slings',\n 'and',\n 'arrows',\n 'of',\n 'outrageous',\n 'fortune,',\n 'or',\n 'to',\n 'take',\n 'arms',\n 'against',\n 'sea',\n 'of',\n 'troubles',\n 'and',\n 'by',\n 'opposing',\n 'end',\n 'them.',\n 'to',\n 'die—to',\n 'sleep,',\n 'no',\n 'more;',\n 'and',\n 'by',\n 'sleep',\n 'to',\n 'say',\n 'we',\n 'end',\n 'heart-ache',\n 'and',\n 'thousand',\n 'natural',\n 'shocks',\n 'that',\n 'flesh',\n 'is',\n 'heir',\n 'to:',\n \"'tis\",\n 'consummation',\n 'devoutly',\n 'to',\n 'be',\n \"wish'd.\",\n 'to',\n 'die,',\n 'to',\n 'sleep;',\n 'to',\n 'sleep,',\n 'perchance',\n 'to',\n 'dream—ay,',\n \"there's\",\n 'rub:',\n 'for',\n 'in',\n 'that',\n 'sleep',\n 'of',\n 'death',\n 'what',\n 'dreams',\n 'may',\n 'come,',\n 'when',\n 'we',\n 'have',\n 'shuffled',\n 'off',\n 'this',\n 'mortal',\n 'coil,',\n 'must',\n 'give',\n 'us',\n \"pause—there's\",\n 'respect',\n 'that',\n 'makes',\n 'calamity',\n 'of',\n 'so',\n 'long',\n 'life.']"
     },
     "execution_count": 35,
     "metadata": {},
     "output_type": "execute_result"
    }
   ],
   "source": [
    "tokens.collect()"
   ],
   "metadata": {
    "collapsed": false,
    "pycharm": {
     "name": "#%%\n"
    }
   }
  },
  {
   "cell_type": "code",
   "execution_count": null,
   "outputs": [],
   "source": [],
   "metadata": {
    "collapsed": false,
    "pycharm": {
     "name": "#%%\n"
    }
   }
  }
 ],
 "metadata": {
  "kernelspec": {
   "display_name": "Python 3",
   "language": "python",
   "name": "python3"
  },
  "language_info": {
   "codemirror_mode": {
    "name": "ipython",
    "version": 2
   },
   "file_extension": ".py",
   "mimetype": "text/x-python",
   "name": "python",
   "nbconvert_exporter": "python",
   "pygments_lexer": "ipython2",
   "version": "2.7.6"
  }
 },
 "nbformat": 4,
 "nbformat_minor": 0
}