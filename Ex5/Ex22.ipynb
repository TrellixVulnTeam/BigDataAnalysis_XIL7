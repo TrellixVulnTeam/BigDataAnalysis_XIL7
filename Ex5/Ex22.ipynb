{
 "cells": [
  {
   "cell_type": "markdown",
   "metadata": {
    "collapsed": true,
    "pycharm": {
     "name": "#%% md\n"
    }
   },
   "source": [
    "<h2>Exercise 22: Creating a Partitioned Data Set"
   ]
  },
  {
   "cell_type": "code",
   "execution_count": 1,
   "outputs": [],
   "source": [
    "from pyspark.sql import SparkSession\n",
    "spark = SparkSession.builder.appName('Exercise 22').getOrCreate()"
   ],
   "metadata": {
    "collapsed": false,
    "pycharm": {
     "name": "#%%\n"
    }
   }
  },
  {
   "cell_type": "code",
   "execution_count": 9,
   "outputs": [],
   "source": [
    "dfs1 = spark.read.parquet('dataFile')"
   ],
   "metadata": {
    "collapsed": false,
    "pycharm": {
     "name": "#%%\n"
    }
   }
  },
  {
   "cell_type": "code",
   "execution_count": 10,
   "outputs": [],
   "source": [
    "dfs1 .write.parquet(\n",
    "    'dataFiledPartitioned1',\n",
    "    partitionBy=['year','cylinders'],\n",
    "    compression='snappy'\n",
    ")"
   ],
   "metadata": {
    "collapsed": false,
    "pycharm": {
     "name": "#%%\n"
    }
   }
  },
  {
   "cell_type": "code",
   "execution_count": 11,
   "outputs": [],
   "source": [
    "dfs2 = spark.read.parquet('dataFiledPartitioned1/')"
   ],
   "metadata": {
    "collapsed": false,
    "pycharm": {
     "name": "#%%\n"
    }
   }
  },
  {
   "cell_type": "code",
   "execution_count": 12,
   "outputs": [
    {
     "name": "stdout",
     "output_type": "stream",
     "text": [
      "+---+------------+------------+----------+----+--------------------+------+------+----+---------+\n",
      "|_c0|acceleration|displacement|horsepower| mpg|                name|origin|weight|year|cylinders|\n",
      "+---+------------+------------+----------+----+--------------------+------+------+----+---------+\n",
      "|367|        19.6|       112.0|      88.0|28.0|  chevrolet cavalier|     1|2605.0|1982|        4|\n",
      "|368|        18.6|       112.0|      88.0|27.0|chevrolet cavalie...|     1|2640.0|1982|        4|\n",
      "|369|        18.0|       112.0|      88.0|34.0|chevrolet cavalie...|     1|2395.0|1982|        4|\n",
      "|370|        16.2|       112.0|      85.0|31.0|pontiac j2000 se ...|     1|2575.0|1982|        4|\n",
      "|371|        16.0|       135.0|      84.0|29.0|      dodge aries se|     1|2525.0|1982|        4|\n",
      "|372|        18.0|       151.0|      90.0|27.0|     pontiac phoenix|     1|2735.0|1982|        4|\n",
      "|373|        16.4|       140.0|      92.0|24.0|ford fairmont futura|     1|2865.0|1982|        4|\n",
      "|374|        20.5|       151.0|      null|23.0|      amc concord dl|     1|3035.0|1982|        4|\n",
      "|375|        15.3|       105.0|      74.0|36.0| volkswagen rabbit l|     2|1980.0|1982|        4|\n",
      "|376|        18.2|        91.0|      68.0|37.0|  mazda glc custom l|     3|2025.0|1982|        4|\n",
      "|377|        17.6|        91.0|      68.0|31.0|    mazda glc custom|     3|1970.0|1982|        4|\n",
      "|378|        14.7|       105.0|      63.0|38.0|plymouth horizon ...|     1|2125.0|1982|        4|\n",
      "|379|        17.3|        98.0|      70.0|36.0|      mercury lynx l|     1|2125.0|1982|        4|\n",
      "|380|        14.5|       120.0|      88.0|36.0|    nissan stanza xe|     3|2160.0|1982|        4|\n",
      "|381|        14.5|       107.0|      75.0|36.0|        honda accord|     3|2205.0|1982|        4|\n",
      "|382|        16.9|       108.0|      70.0|34.0|      toyota corolla|     3|2245.0|1982|        4|\n",
      "|383|        15.0|        91.0|      67.0|38.0|         honda civic|     3|1965.0|1982|        4|\n",
      "|384|        15.7|        91.0|      67.0|32.0|  honda civic (auto)|     3|1965.0|1982|        4|\n",
      "|385|        16.2|        91.0|      67.0|38.0|       datsun 310 gx|     3|1995.0|1982|        4|\n",
      "|388|        14.5|       156.0|      92.0|26.0|chrysler lebaron ...|     1|2585.0|1982|        4|\n",
      "+---+------------+------------+----------+----+--------------------+------+------+----+---------+\n",
      "only showing top 20 rows\n",
      "\n"
     ]
    }
   ],
   "source": [
    "dfs2.show()"
   ],
   "metadata": {
    "collapsed": false,
    "pycharm": {
     "name": "#%%\n"
    }
   }
  },
  {
   "cell_type": "code",
   "execution_count": null,
   "outputs": [],
   "source": [],
   "metadata": {
    "collapsed": false,
    "pycharm": {
     "name": "#%%\n"
    }
   }
  }
 ],
 "metadata": {
  "kernelspec": {
   "display_name": "Python 3",
   "language": "python",
   "name": "python3"
  },
  "language_info": {
   "codemirror_mode": {
    "name": "ipython",
    "version": 2
   },
   "file_extension": ".py",
   "mimetype": "text/x-python",
   "name": "python",
   "nbconvert_exporter": "python",
   "pygments_lexer": "ipython2",
   "version": "2.7.6"
  }
 },
 "nbformat": 4,
 "nbformat_minor": 0
}