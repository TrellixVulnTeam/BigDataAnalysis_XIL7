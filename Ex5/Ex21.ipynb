{
 "cells": [
  {
   "cell_type": "code",
   "execution_count": 33,
   "metadata": {
    "collapsed": true
   },
   "outputs": [],
   "source": [
    "from pyspark.sql import SparkSession\n",
    "\n",
    "spark = SparkSession.builder.appName('Exercise 21').getOrCreate()"
   ]
  },
  {
   "cell_type": "code",
   "execution_count": 34,
   "outputs": [],
   "source": [
    "dfs = spark.read.json('cars_json/')"
   ],
   "metadata": {
    "collapsed": false,
    "pycharm": {
     "name": "#%%\n"
    }
   }
  },
  {
   "cell_type": "code",
   "execution_count": 35,
   "outputs": [
    {
     "name": "stdout",
     "output_type": "stream",
     "text": [
      "+---+------------+---------+------------+----------+----+--------------------+------+------+----+\n",
      "|_c0|acceleration|cylinders|displacement|horsepower| mpg|                name|origin|weight|year|\n",
      "+---+------------+---------+------------+----------+----+--------------------+------+------+----+\n",
      "|  0|        12.0|        8|       307.0|     130.0|18.0|chevrolet chevell...|     1|3504.0|1970|\n",
      "|  1|        11.5|        8|       350.0|     165.0|15.0|   buick skylark 320|     1|3693.0|1970|\n",
      "|  2|        11.0|        8|       318.0|     150.0|18.0|  plymouth satellite|     1|3436.0|1970|\n",
      "|  3|        12.0|        8|       304.0|     150.0|16.0|       amc rebel sst|     1|3433.0|1970|\n",
      "|  4|        10.5|        8|       302.0|     140.0|17.0|         ford torino|     1|3449.0|1970|\n",
      "|  5|        10.0|        8|       429.0|     198.0|15.0|    ford galaxie 500|     1|4341.0|1970|\n",
      "|  6|         9.0|        8|       454.0|     220.0|14.0|    chevrolet impala|     1|4354.0|1970|\n",
      "|  7|         8.5|        8|       440.0|     215.0|14.0|   plymouth fury iii|     1|4312.0|1970|\n",
      "|  8|        10.0|        8|       455.0|     225.0|14.0|    pontiac catalina|     1|4425.0|1970|\n",
      "|  9|         8.5|        8|       390.0|     190.0|15.0|  amc ambassador dpl|     1|3850.0|1970|\n",
      "| 10|        10.0|        8|       383.0|     170.0|15.0| dodge challenger se|     1|3563.0|1970|\n",
      "| 11|         8.0|        8|       340.0|     160.0|14.0|  plymouth 'cuda 340|     1|3609.0|1970|\n",
      "| 12|         9.5|        8|       400.0|     150.0|15.0|chevrolet monte c...|     1|3761.0|1970|\n",
      "| 13|        10.0|        8|       455.0|     225.0|14.0|buick estate wago...|     1|3086.0|1970|\n",
      "| 14|        15.0|        4|       113.0|      95.0|24.0|toyota corona mar...|     3|2372.0|1970|\n",
      "| 15|        15.5|        6|       198.0|      95.0|22.0|     plymouth duster|     1|2833.0|1970|\n",
      "| 16|        15.5|        6|       199.0|      97.0|18.0|          amc hornet|     1|2774.0|1970|\n",
      "| 17|        16.0|        6|       200.0|      85.0|21.0|       ford maverick|     1|2587.0|1970|\n",
      "| 18|        14.5|        4|        97.0|      88.0|27.0|        datsun pl510|     3|2130.0|1970|\n",
      "| 19|        20.5|        4|        97.0|      46.0|26.0|volkswagen 1131 d...|     2|1835.0|1970|\n",
      "+---+------------+---------+------------+----------+----+--------------------+------+------+----+\n",
      "only showing top 20 rows\n",
      "\n"
     ]
    }
   ],
   "source": [
    "dfs.withColumnRenamed('displacement [cu]','displacement')\n",
    "dfs.show()"
   ],
   "metadata": {
    "collapsed": false,
    "pycharm": {
     "name": "#%%\n"
    }
   }
  },
  {
   "cell_type": "code",
   "execution_count": 36,
   "outputs": [],
   "source": [
    "dfs.write.parquet('dataFile', compression='snappy')"
   ],
   "metadata": {
    "collapsed": false,
    "pycharm": {
     "name": "#%%\n"
    }
   }
  },
  {
   "cell_type": "code",
   "execution_count": 37,
   "outputs": [],
   "source": [
    "dfs1 = spark.read.parquet('dataFile')"
   ],
   "metadata": {
    "collapsed": false,
    "pycharm": {
     "name": "#%%\n"
    }
   }
  },
  {
   "cell_type": "code",
   "execution_count": 38,
   "outputs": [
    {
     "name": "stdout",
     "output_type": "stream",
     "text": [
      "+---+------------+---------+------------+----------+----+--------------------+------+------+----+\n",
      "|_c0|acceleration|cylinders|displacement|horsepower| mpg|                name|origin|weight|year|\n",
      "+---+------------+---------+------------+----------+----+--------------------+------+------+----+\n",
      "|  0|        12.0|        8|       307.0|     130.0|18.0|chevrolet chevell...|     1|3504.0|1970|\n",
      "|  1|        11.5|        8|       350.0|     165.0|15.0|   buick skylark 320|     1|3693.0|1970|\n",
      "|  2|        11.0|        8|       318.0|     150.0|18.0|  plymouth satellite|     1|3436.0|1970|\n",
      "|  3|        12.0|        8|       304.0|     150.0|16.0|       amc rebel sst|     1|3433.0|1970|\n",
      "|  4|        10.5|        8|       302.0|     140.0|17.0|         ford torino|     1|3449.0|1970|\n",
      "|  5|        10.0|        8|       429.0|     198.0|15.0|    ford galaxie 500|     1|4341.0|1970|\n",
      "|  6|         9.0|        8|       454.0|     220.0|14.0|    chevrolet impala|     1|4354.0|1970|\n",
      "|  7|         8.5|        8|       440.0|     215.0|14.0|   plymouth fury iii|     1|4312.0|1970|\n",
      "|  8|        10.0|        8|       455.0|     225.0|14.0|    pontiac catalina|     1|4425.0|1970|\n",
      "|  9|         8.5|        8|       390.0|     190.0|15.0|  amc ambassador dpl|     1|3850.0|1970|\n",
      "| 10|        10.0|        8|       383.0|     170.0|15.0| dodge challenger se|     1|3563.0|1970|\n",
      "| 11|         8.0|        8|       340.0|     160.0|14.0|  plymouth 'cuda 340|     1|3609.0|1970|\n",
      "| 12|         9.5|        8|       400.0|     150.0|15.0|chevrolet monte c...|     1|3761.0|1970|\n",
      "| 13|        10.0|        8|       455.0|     225.0|14.0|buick estate wago...|     1|3086.0|1970|\n",
      "| 14|        15.0|        4|       113.0|      95.0|24.0|toyota corona mar...|     3|2372.0|1970|\n",
      "| 15|        15.5|        6|       198.0|      95.0|22.0|     plymouth duster|     1|2833.0|1970|\n",
      "| 16|        15.5|        6|       199.0|      97.0|18.0|          amc hornet|     1|2774.0|1970|\n",
      "| 17|        16.0|        6|       200.0|      85.0|21.0|       ford maverick|     1|2587.0|1970|\n",
      "| 18|        14.5|        4|        97.0|      88.0|27.0|        datsun pl510|     3|2130.0|1970|\n",
      "| 19|        20.5|        4|        97.0|      46.0|26.0|volkswagen 1131 d...|     2|1835.0|1970|\n",
      "+---+------------+---------+------------+----------+----+--------------------+------+------+----+\n",
      "only showing top 20 rows\n",
      "\n"
     ]
    }
   ],
   "source": [
    "dfs1.show()\n"
   ],
   "metadata": {
    "collapsed": false,
    "pycharm": {
     "name": "#%%\n"
    }
   }
  }
 ],
 "metadata": {
  "kernelspec": {
   "display_name": "Python 3",
   "language": "python",
   "name": "python3"
  },
  "language_info": {
   "codemirror_mode": {
    "name": "ipython",
    "version": 2
   },
   "file_extension": ".py",
   "mimetype": "text/x-python",
   "name": "python",
   "nbconvert_exporter": "python",
   "pygments_lexer": "ipython2",
   "version": "2.7.6"
  }
 },
 "nbformat": 4,
 "nbformat_minor": 0
}