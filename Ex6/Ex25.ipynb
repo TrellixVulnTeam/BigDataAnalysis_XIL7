{
 "cells": [
  {
   "cell_type": "markdown",
   "metadata": {
    "collapsed": true,
    "pycharm": {
     "name": "#%% md\n"
    }
   },
   "source": [
    "<h2>Exercise 25 Creating a DataFrame fro man Existing RDD )Resilient Distributed Dataset"
   ]
  },
  {
   "cell_type": "code",
   "execution_count": 1,
   "outputs": [],
   "source": [
    "from pyspark import SparkContext\n",
    "from pyspark.sql import *\n",
    "sc = SparkContext()\n",
    "sqlc = SQLContext(sc)"
   ],
   "metadata": {
    "collapsed": false,
    "pycharm": {
     "name": "#%%\n"
    }
   }
  },
  {
   "cell_type": "code",
   "execution_count": 5,
   "outputs": [
    {
     "data": {
      "text/plain": "pyspark.rdd.RDD"
     },
     "execution_count": 5,
     "metadata": {},
     "output_type": "execute_result"
    }
   ],
   "source": [
    "data = [(\"Anikt\",23), (\"Tyler\", 26), (\"Preity\",36)]\n",
    "data_rdd = sc.parallelize(data)\n",
    "type(data_rdd)"
   ],
   "metadata": {
    "collapsed": false,
    "pycharm": {
     "name": "#%%\n"
    }
   }
  },
  {
   "cell_type": "code",
   "execution_count": 3,
   "outputs": [],
   "source": [
    "data_sd = sqlc.createDataFrame(data_rdd)"
   ],
   "metadata": {
    "collapsed": false,
    "pycharm": {
     "name": "#%%\n"
    }
   }
  },
  {
   "cell_type": "code",
   "execution_count": 6,
   "outputs": [
    {
     "name": "stdout",
     "output_type": "stream",
     "text": [
      "+------+---+\n",
      "|    _1| _2|\n",
      "+------+---+\n",
      "| Anikt| 23|\n",
      "| Tyler| 26|\n",
      "|Preity| 36|\n",
      "+------+---+\n",
      "\n"
     ]
    }
   ],
   "source": [
    "data_sd.show()"
   ],
   "metadata": {
    "collapsed": false,
    "pycharm": {
     "name": "#%%\n"
    }
   }
  },
  {
   "cell_type": "code",
   "execution_count": 8,
   "outputs": [
    {
     "name": "stdout",
     "output_type": "stream",
     "text": [
      "+----+----+\n",
      "|  _1|  _2|\n",
      "+----+----+\n",
      "|Opel|2001|\n",
      "|Ford|2002|\n",
      "|Audi|2004|\n",
      "+----+----+\n",
      "\n"
     ]
    }
   ],
   "source": [
    "ex2_data = [(\"Opel\",2001), (\"Ford\",2002), (\"Audi\",2004)]\n",
    "ex2_data_rdd = sc.parallelize(ex2_data)\n",
    "ex2_data_sd = sqlc.createDataFrame(ex2_data_rdd)\n",
    "ex2_data_sd.show()\n"
   ],
   "metadata": {
    "collapsed": false,
    "pycharm": {
     "name": "#%%\n"
    }
   }
  }
 ],
 "metadata": {
  "kernelspec": {
   "display_name": "Python 3",
   "language": "python",
   "name": "python3"
  },
  "language_info": {
   "codemirror_mode": {
    "name": "ipython",
    "version": 2
   },
   "file_extension": ".py",
   "mimetype": "text/x-python",
   "name": "python",
   "nbconvert_exporter": "python",
   "pygments_lexer": "ipython2",
   "version": "2.7.6"
  }
 },
 "nbformat": 4,
 "nbformat_minor": 0
}