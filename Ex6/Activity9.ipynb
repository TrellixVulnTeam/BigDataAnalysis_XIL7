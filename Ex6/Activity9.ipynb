{
 "cells": [
  {
   "cell_type": "markdown",
   "metadata": {
    "collapsed": true,
    "pycharm": {
     "name": "#%% md\n"
    }
   },
   "source": [
    "<h2> Actvity 9: Getting Started with Spark DataFrames</h2>\n",
    "<p> In this activity, we will use the concepts learned in the previous sections and create a Spark DataFrame\n",
    "statistics, and finally, write the same data into a CSV file. Feel free to use any open source dataset for this activity.\n",
    "</p>\n",
    "<ol type=\"1\">\n",
    "    <li>Create a sample DataFrame by manually specyfing the schema.</li>\n",
    "    <li>Create a sample DataFrame form an existing RDD.</li>\n",
    "    <li>Create a sample DataFrame by reading the data from a CSV file.</li>\n",
    "    <li>Print the first seven rows of the sample DataFrame read in step 3.</li>\n",
    "    <li>Print the schema of the Sample Datarame read in step3.</li>\n",
    "    <li>Print the number of rows and columns in the sample DataFrame.</li>\n",
    "    <li>Print the summary statistics of the DataFrame and any 2 individual numerical columns.</li>\n",
    "    <li>Write the first 8 rows of the sample DataFrame to a CSV file using both methotds mentitioned in exercises."
   ]
  },
  {
   "cell_type": "code",
   "execution_count": 1,
   "outputs": [],
   "source": [
    "import pyspark\n",
    "from pyspark.sql import *\n",
    "from pyspark import SparkContext"
   ],
   "metadata": {
    "collapsed": false,
    "pycharm": {
     "name": "#%%\n"
    }
   }
  },
  {
   "cell_type": "code",
   "execution_count": 2,
   "outputs": [],
   "source": [
    "spark = SparkSession.builder.appName(\"Python Spark Session3\").getOrCreate()\n",
    "conf = pyspark.SparkConf()\n",
    "sc = pyspark.SparkContext.getOrCreate(conf=conf)\n",
    "sqlc = SQLContext(sc)"
   ],
   "metadata": {
    "collapsed": false,
    "pycharm": {
     "name": "#%%\n"
    }
   }
  },
  {
   "cell_type": "code",
   "execution_count": 3,
   "outputs": [
    {
     "name": "stdout",
     "output_type": "stream",
     "text": [
      "+----+----+\n",
      "| Car|Year|\n",
      "+----+----+\n",
      "|Opel|2001|\n",
      "|Ford|2002|\n",
      "|Audi|2004|\n",
      "+----+----+\n",
      "\n"
     ]
    }
   ],
   "source": [
    "ex1_schema = Row(\"Car\",\"Year\")\n",
    "\n",
    "ex1_schema_row1 = ex1_schema(\"Opel\",2001)\n",
    "ex1_schema_row2 = ex1_schema(\"Ford\",2002)\n",
    "ex1_schema_row3 = ex1_schema(\"Audi\",2004)\n",
    "temp = [ex1_schema_row1,\n",
    "        ex1_schema_row2,\n",
    "        ex1_schema_row3]\n",
    "df = sqlc.createDataFrame(temp)\n",
    "df.show()"
   ],
   "metadata": {
    "collapsed": false,
    "pycharm": {
     "name": "#%%\n"
    }
   }
  },
  {
   "cell_type": "markdown",
   "source": [
    "<h2>Ex2</h2>"
   ],
   "metadata": {
    "collapsed": false,
    "pycharm": {
     "name": "#%% md\n"
    }
   }
  },
  {
   "cell_type": "code",
   "execution_count": 4,
   "outputs": [
    {
     "name": "stdout",
     "output_type": "stream",
     "text": [
      "+----+----+\n",
      "|  _1|  _2|\n",
      "+----+----+\n",
      "|Opel|2001|\n",
      "|Ford|2002|\n",
      "|Audi|2004|\n",
      "+----+----+\n",
      "\n"
     ]
    }
   ],
   "source": [
    "ex2_data = [(\"Opel\",2001), (\"Ford\",2002), (\"Audi\",2004)]\n",
    "ex2_data_rdd = sc.parallelize(ex2_data)\n",
    "ex2_data_sd = sqlc.createDataFrame(ex2_data_rdd)\n",
    "ex2_data_sd.show()\n"
   ],
   "metadata": {
    "collapsed": false,
    "pycharm": {
     "name": "#%%\n"
    }
   }
  },
  {
   "cell_type": "code",
   "execution_count": null,
   "outputs": [],
   "source": [],
   "metadata": {
    "collapsed": false,
    "pycharm": {
     "name": "#%%\n"
    }
   }
  }
 ],
 "metadata": {
  "kernelspec": {
   "display_name": "Python 3",
   "language": "python",
   "name": "python3"
  },
  "language_info": {
   "codemirror_mode": {
    "name": "ipython",
    "version": 2
   },
   "file_extension": ".py",
   "mimetype": "text/x-python",
   "name": "python",
   "nbconvert_exporter": "python",
   "pygments_lexer": "ipython2",
   "version": "2.7.6"
  }
 },
 "nbformat": 4,
 "nbformat_minor": 0
}