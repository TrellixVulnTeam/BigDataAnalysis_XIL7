{
 "cells": [
  {
   "cell_type": "code",
   "execution_count": 2,
   "metadata": {
    "collapsed": true
   },
   "outputs": [],
   "source": [
    "from pyspark import SparkContext\n",
    "from pyspark.sql import SQLContext"
   ]
  },
  {
   "cell_type": "code",
   "execution_count": 3,
   "outputs": [],
   "source": [
    "sc = SparkContext()\n",
    "sqlc = SQLContext(sc)"
   ],
   "metadata": {
    "collapsed": false,
    "pycharm": {
     "name": "#%%\n"
    }
   }
  },
  {
   "cell_type": "code",
   "execution_count": 6,
   "outputs": [
    {
     "data": {
      "text/plain": "pyspark.sql.dataframe.DataFrame"
     },
     "execution_count": 6,
     "metadata": {},
     "output_type": "execute_result"
    }
   ],
   "source": [
    "df = sqlc.read.format('com.databricks.spark.csv').options(\n",
    "    header = 'True',\n",
    "    inferschema = 'true'\n",
    ").load('../cars_fixed.csv')\n",
    "type(df)"
   ],
   "metadata": {
    "collapsed": false,
    "pycharm": {
     "name": "#%%\n"
    }
   }
  },
  {
   "cell_type": "code",
   "execution_count": null,
   "outputs": [],
   "source": [
    "df.show(5)"
   ],
   "metadata": {
    "collapsed": false,
    "pycharm": {
     "name": "#%%\n"
    }
   }
  },
  {
   "cell_type": "code",
   "execution_count": 7,
   "outputs": [
    {
     "name": "stdout",
     "output_type": "stream",
     "text": [
      "+---+----+---------+------------+----------+------+------------+----+------+--------------------+\n",
      "|_c0| mpg|cylinders|displacement|horsepower|weight|acceleration|year|origin|                name|\n",
      "+---+----+---------+------------+----------+------+------------+----+------+--------------------+\n",
      "|  0|18.0|        8|       307.0|     130.0|3504.0|        12.0|1970|     1|chevrolet chevell...|\n",
      "|  1|15.0|        8|       350.0|     165.0|3693.0|        11.5|1970|     1|   buick skylark 320|\n",
      "|  2|18.0|        8|       318.0|     150.0|3436.0|        11.0|1970|     1|  plymouth satellite|\n",
      "|  3|16.0|        8|       304.0|     150.0|3433.0|        12.0|1970|     1|       amc rebel sst|\n",
      "|  4|17.0|        8|       302.0|     140.0|3449.0|        10.5|1970|     1|         ford torino|\n",
      "+---+----+---------+------------+----------+------+------------+----+------+--------------------+\n",
      "only showing top 5 rows\n",
      "\n"
     ]
    }
   ],
   "source": [
    "df.show(5)"
   ],
   "metadata": {
    "collapsed": false,
    "pycharm": {
     "name": "#%%\n"
    }
   }
  }
 ],
 "metadata": {
  "kernelspec": {
   "display_name": "Python 3",
   "language": "python",
   "name": "python3"
  },
  "language_info": {
   "codemirror_mode": {
    "name": "ipython",
    "version": 2
   },
   "file_extension": ".py",
   "mimetype": "text/x-python",
   "name": "python",
   "nbconvert_exporter": "python",
   "pygments_lexer": "ipython2",
   "version": "2.7.6"
  }
 },
 "nbformat": 4,
 "nbformat_minor": 0
}