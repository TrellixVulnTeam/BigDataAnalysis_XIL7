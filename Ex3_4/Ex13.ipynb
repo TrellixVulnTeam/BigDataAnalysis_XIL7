{
 "cells": [
  {
   "cell_type": "code",
   "execution_count": 2,
   "outputs": [],
   "source": [
    "import numpy as np\n",
    "import pandas as pd\n",
    "import matplotlib.pyplot as plt\n",
    "import seaborn as sns"
   ],
   "metadata": {
    "collapsed": false,
    "pycharm": {
     "name": "#%%\n"
    }
   }
  },
  {
   "cell_type": "code",
   "execution_count": 5,
   "outputs": [],
   "source": [
    "df = pd.read_csv('../cars.data',\n",
    "                    names=[\n",
    "                     'mpg',\n",
    "                     'cylinders',\n",
    "                     'displacement [cu]',\n",
    "                     'horsepower',\n",
    "                     'weight',\n",
    "                     'acceleration',\n",
    "                     'year',\n",
    "                     'origin',\n",
    "                     'name'],\n",
    "                 delim_whitespace=True\n",
    "\n",
    "                 )\n",
    "df.head()\n",
    "df.loc[df.horsepower == '?']\n",
    "\n",
    "df.horsepower = df.horsepower.apply(lambda x: np.nan if(x == '?') else x)\n",
    "df.horsepower = pd.to_numeric(df.horsepower)\n",
    "\n",
    "full_year = pd.to_datetime(df.year, format='%y').dt.year\n",
    "df['year'] = full_year"
   ],
   "metadata": {
    "collapsed": false,
    "pycharm": {
     "name": "#%%\n"
    }
   }
  },
  {
   "cell_type": "code",
   "execution_count": 20,
   "outputs": [
    {
     "data": {
      "text/plain": "<AxesSubplot:xlabel='cylinders', ylabel='horsepower'>"
     },
     "execution_count": 20,
     "metadata": {},
     "output_type": "execute_result"
    },
    {
     "data": {
      "text/plain": "<Figure size 432x288 with 1 Axes>",
      "image/png": "[encoded data removed]"
     },
     "metadata": {
      "needs_background": "light"
     },
     "output_type": "display_data"
    }
   ],
   "source": [
    "sns.boxplot(\n",
    "    data = df,\n",
    "    x = 'cylinders',\n",
    "    y = df.horsepower\n",
    ")"
   ],
   "metadata": {
    "collapsed": false,
    "pycharm": {
     "name": "#%%\n"
    }
   }
  },
  {
   "cell_type": "code",
   "execution_count": null,
   "outputs": [],
   "source": [
    "df.boxplot(\n",
    "    column='horsepower',\n",
    "    by='cylinders')\n"
   ],
   "metadata": {
    "collapsed": false,
    "pycharm": {
     "name": "#%%\n"
    }
   }
  }
 ],
 "metadata": {
  "kernelspec": {
   "display_name": "Python 3",
   "language": "python",
   "name": "python3"
  },
  "language_info": {
   "codemirror_mode": {
    "name": "ipython",
    "version": 2
   },
   "file_extension": ".py",
   "mimetype": "text/x-python",
   "name": "python",
   "nbconvert_exporter": "python",
   "pygments_lexer": "ipython2",
   "version": "2.7.6"
  }
 },
 "nbformat": 4,
 "nbformat_minor": 0
}